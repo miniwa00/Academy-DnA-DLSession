{
 "cells": [
  {
   "cell_type": "markdown",
   "id": "4f412b9f",
   "metadata": {},
   "source": [
    "# Deep Session 1주차 실습\n",
    "- [Pytorch](#Pytorch)\n",
    "  - [gpu 불러오기](#gpu-불러오기)\n",
    "- [Class](#Class)\n",
    "  - [Class 생성](#Class-생성)\n",
    "  - [상속](#상속)\n",
    "- [Tensor](#Tensor)\n",
    "  - [Scalar](#Scalar)\n",
    "  - [Vector](#Vector)\n",
    "  - [Matrix](#Matrix)\n",
    "  - [Tensor](#Tensor)\n",
    "- [Tensor Manipulation](#Tensor-Manipulation)\n",
    "  - [1D Array with PyTorch](#1D-Array-with-PyTorch)\n",
    "  - [2D Array with PyTorch](#2D-Array-with-PyTorch)\n",
    "  - [Broadcasting](#Broadcasting)\n",
    "  - [Mean](#Mean)\n",
    "  - [Sum](#Sum)\n",
    "  - [Max and Argmax](#Max-and-Argmax)\n",
    "  - [View](#View)\n",
    "  - [Squeeze](#Squeeze)\n",
    "  - [Unsqueeze](#Unsqueeze)\n",
    "  - [Scatter (for one-hot encoding)](#Scatter-(for-one-hot-encoding))\n",
    "  - [Casting](#Casting)\n",
    "  - [Concatenation](#Concatenation)\n",
    "  - [Stacking](#Stacking)\n",
    "  - [Ones and Zeros Like](#Ones-and-Zeros-Like)\n",
    "  - [In-place Operation](#In-place-Operation)"
   ]
  },
  {
   "cell_type": "markdown",
   "id": "7c0a2cad",
   "metadata": {},
   "source": [
    "## <font color = \"#CC3D3D\">Pytorch</font>"
   ]
  },
  {
   "cell_type": "code",
   "execution_count": 2,
   "id": "c5b71e13",
   "metadata": {},
   "outputs": [],
   "source": [
    "import torch"
   ]
  },
  {
   "cell_type": "markdown",
   "id": "dc10cbbd",
   "metadata": {},
   "source": [
    "### gpu 불러오기"
   ]
  },
  {
   "cell_type": "code",
   "execution_count": 3,
   "id": "739dd0ed",
   "metadata": {},
   "outputs": [
    {
     "name": "stdout",
     "output_type": "stream",
     "text": [
      "2.0.0 cuda\n"
     ]
    }
   ],
   "source": [
    "if torch.cuda.is_available(): # GPU를 이용해 계산할 수 있는지 파악\n",
    "    DEVICE = torch.device('cuda') # device에 GPU를 할당\n",
    "else:\n",
    "    DEVICE = torch.device('cpu') # device에 CPU를 할당\n",
    "print(torch.__version__, DEVICE)"
   ]
  },
  {
   "cell_type": "markdown",
   "id": "16b1b0ef",
   "metadata": {},
   "source": [
    "## <font color = \"#CC3D3D\">Class</font>\n",
    "\n",
    "<img src='https://wikidocs.net/images/page/28/class_cookie.png'>\n",
    "<font size=1>이미지 출처: https://wikidocs.net/28</font>\n",
    "\n",
    "- **클래스**: 똑같은 무엇인가를 만들어내는 설계 도면\n",
    "- **객체**: 클래스로 만든 피조물\n",
    "- **인스턴스**: 클래스가 지시한대로 만든 값\n",
    "- **메소드**: 클래스 안에 구현된 함수\n",
    "- **객체 변수**: 객체에 생성되는 객체만의 변수\n",
    "- **생성자**: 객체가 생성되는 시점에 자동으로 호출되는 메소드"
   ]
  },
  {
   "cell_type": "markdown",
   "id": "7aa6a67b",
   "metadata": {},
   "source": [
    "### Class 생성"
   ]
  },
  {
   "cell_type": "code",
   "execution_count": null,
   "id": "ef89e542",
   "metadata": {},
   "outputs": [],
   "source": [
    "class Fourcal:\n",
    "    def setdata(self, first, second): # 메소드\n",
    "        self.first = first # 객체 변수 생성\n",
    "        self.second = second\n",
    "    def add(self):\n",
    "        result = self.first + self.second\n",
    "        return result"
   ]
  },
  {
   "cell_type": "code",
   "execution_count": null,
   "id": "1e0f5007",
   "metadata": {},
   "outputs": [],
   "source": [
    "a = Fourcal() # 객체 생성\n",
    "a.setdata(1,2)\n",
    "a.add()"
   ]
  },
  {
   "cell_type": "code",
   "execution_count": null,
   "id": "d2446ab1",
   "metadata": {},
   "outputs": [],
   "source": [
    "b = Fourcal()\n",
    "b.add()"
   ]
  },
  {
   "cell_type": "code",
   "execution_count": null,
   "id": "c28fba47",
   "metadata": {},
   "outputs": [],
   "source": [
    "class Fourcal:\n",
    "    def __init__(self, first, second): # 생성자\n",
    "        self.first = first\n",
    "        self.second = second\n",
    "    def add(self):\n",
    "        result = self.first + self.second\n",
    "        return result"
   ]
  },
  {
   "cell_type": "code",
   "execution_count": null,
   "id": "a42bed8e",
   "metadata": {},
   "outputs": [],
   "source": [
    "a = Fourcal()"
   ]
  },
  {
   "cell_type": "code",
   "execution_count": null,
   "id": "5e837e15",
   "metadata": {},
   "outputs": [],
   "source": [
    "a = Fourcal(1,2)\n",
    "a.add()"
   ]
  },
  {
   "cell_type": "code",
   "execution_count": null,
   "id": "972a5211",
   "metadata": {},
   "outputs": [],
   "source": [
    "b = Fourcal(5,7)\n",
    "b.add()"
   ]
  },
  {
   "cell_type": "code",
   "execution_count": null,
   "id": "6b5fffd9",
   "metadata": {},
   "outputs": [],
   "source": [
    "print(\"a's first: \",a.first, \", b's first: \",b.first)"
   ]
  },
  {
   "cell_type": "code",
   "execution_count": null,
   "id": "614042ae",
   "metadata": {},
   "outputs": [],
   "source": [
    "### 상속\n",
    "\n",
    "class Parent: # 부모 클래스\n",
    "    def __init__(self, p1, p2):\n",
    "        self.p1 = p1\n",
    "        self.p2 = p2\n",
    "    def act(self):\n",
    "        pass"
   ]
  },
  {
   "cell_type": "code",
   "execution_count": null,
   "id": "cdead989",
   "metadata": {},
   "outputs": [],
   "source": [
    "class Child(Parent): # 자식클래스 -> 부모 클래스 상속\n",
    "    def __init__(self, c1):\n",
    "        self.c1 = c1"
   ]
  },
  {
   "cell_type": "code",
   "execution_count": null,
   "id": "c0f90996",
   "metadata": {},
   "outputs": [],
   "source": [
    "c = Child(3)"
   ]
  },
  {
   "cell_type": "code",
   "execution_count": null,
   "id": "b1d9ab43",
   "metadata": {},
   "outputs": [],
   "source": [
    "c.c1"
   ]
  },
  {
   "cell_type": "code",
   "execution_count": null,
   "id": "39ae3ae3",
   "metadata": {},
   "outputs": [],
   "source": [
    "c.p1"
   ]
  },
  {
   "cell_type": "code",
   "execution_count": null,
   "id": "6d39dbd2",
   "metadata": {},
   "outputs": [],
   "source": [
    "class Child(Parent): # 자식클래스 -> 부모 클래스 상속\n",
    "    pass"
   ]
  },
  {
   "cell_type": "code",
   "execution_count": null,
   "id": "d173116a",
   "metadata": {},
   "outputs": [],
   "source": [
    "c = Child(1,2)"
   ]
  },
  {
   "cell_type": "code",
   "execution_count": null,
   "id": "2d130793",
   "metadata": {},
   "outputs": [],
   "source": [
    "c.p1"
   ]
  },
  {
   "cell_type": "code",
   "execution_count": null,
   "id": "53db7f2f",
   "metadata": {},
   "outputs": [],
   "source": [
    "class Child(Parent):\n",
    "    def __init__(self, p1, p2, c1):\n",
    "        super(Child, self).__init__(p1,p2) # 다른 클래스 및 속성을 자동으로 불러옴\n",
    "        self.c1 = c1\n",
    "    def parent_act(self):\n",
    "        super().act() # 부모 클래스의 메소드 사용"
   ]
  },
  {
   "cell_type": "code",
   "execution_count": null,
   "id": "70fb5d97",
   "metadata": {},
   "outputs": [],
   "source": [
    "c = Child(2,3,5)"
   ]
  },
  {
   "cell_type": "code",
   "execution_count": null,
   "id": "d483f1b8",
   "metadata": {},
   "outputs": [],
   "source": [
    "print(c.p1, c.p2, c.c1)"
   ]
  },
  {
   "cell_type": "code",
   "execution_count": null,
   "id": "b6a6d1ef",
   "metadata": {},
   "outputs": [],
   "source": [
    "c.parent_act()"
   ]
  },
  {
   "cell_type": "markdown",
   "id": "f911461f",
   "metadata": {},
   "source": [
    "## <font color = \"#CC3D3D\">Tensor</font>\n",
    "<img src='tensor.png'>"
   ]
  },
  {
   "cell_type": "markdown",
   "id": "d72f1974",
   "metadata": {},
   "source": [
    "### Scalar\n",
    "상수(하나의 값을 표현할 때 1개의 수치로 표현)"
   ]
  },
  {
   "cell_type": "code",
   "execution_count": null,
   "id": "0a9b9432",
   "metadata": {},
   "outputs": [],
   "source": [
    "scalar1 = torch.tensor([1.])\n",
    "print(scalar1)"
   ]
  },
  {
   "cell_type": "code",
   "execution_count": null,
   "id": "41a510f2",
   "metadata": {},
   "outputs": [],
   "source": [
    "scalar2 = torch.tensor([3.])    \n",
    "print(scalar2)"
   ]
  },
  {
   "cell_type": "markdown",
   "id": "de733455",
   "metadata": {},
   "source": [
    "사칙연산 수행가능(+, -, *, /)"
   ]
  },
  {
   "cell_type": "code",
   "execution_count": null,
   "id": "857ca7c9",
   "metadata": {
    "scrolled": true
   },
   "outputs": [],
   "source": [
    "add_scalar = scalar1 + scalar2\n",
    "print(add_scalar)"
   ]
  },
  {
   "cell_type": "code",
   "execution_count": null,
   "id": "0609a32d",
   "metadata": {},
   "outputs": [],
   "source": [
    "sub_scalar = scalar1 - scalar2\n",
    "print(sub_scalar)"
   ]
  },
  {
   "cell_type": "code",
   "execution_count": null,
   "id": "690ae135",
   "metadata": {},
   "outputs": [],
   "source": [
    "mul_scalar = scalar1 * scalar2\n",
    "print(mul_scalar)"
   ]
  },
  {
   "cell_type": "code",
   "execution_count": null,
   "id": "dd6865bd",
   "metadata": {},
   "outputs": [],
   "source": [
    "div_scalar = scalar1 / scalar2\n",
    "print(div_scalar)"
   ]
  },
  {
   "cell_type": "markdown",
   "id": "aa8e9ab3",
   "metadata": {},
   "source": [
    "메소드 사용하여 사칙연산 가능"
   ]
  },
  {
   "cell_type": "code",
   "execution_count": null,
   "id": "2781ccb6",
   "metadata": {},
   "outputs": [],
   "source": [
    "torch.add(scalar1, scalar2)"
   ]
  },
  {
   "cell_type": "code",
   "execution_count": null,
   "id": "218bc8f9",
   "metadata": {},
   "outputs": [],
   "source": [
    "torch.sub(scalar1, scalar2)"
   ]
  },
  {
   "cell_type": "code",
   "execution_count": null,
   "id": "68803ebd",
   "metadata": {},
   "outputs": [],
   "source": [
    "torch.mul(scalar1, scalar2)"
   ]
  },
  {
   "cell_type": "code",
   "execution_count": null,
   "id": "8a8d50e4",
   "metadata": {},
   "outputs": [],
   "source": [
    "torch.div(scalar1, scalar2)"
   ]
  },
  {
   "cell_type": "markdown",
   "id": "d4782cf8",
   "metadata": {},
   "source": [
    "### Vector\n",
    "하나의 값을 표현할 때 2개 이상의 수치로 표현"
   ]
  },
  {
   "cell_type": "code",
   "execution_count": null,
   "id": "d30239bb",
   "metadata": {},
   "outputs": [],
   "source": [
    "vector1 = torch.tensor([1., 2., 3.])\n",
    "print(vector1)"
   ]
  },
  {
   "cell_type": "code",
   "execution_count": null,
   "id": "772bd133",
   "metadata": {},
   "outputs": [],
   "source": [
    "vector2 = torch.tensor([4., 5., 6.])\n",
    "print(vector2)"
   ]
  },
  {
   "cell_type": "markdown",
   "id": "271376f2",
   "metadata": {},
   "source": [
    "사칙연산 가능(element-wise)"
   ]
  },
  {
   "cell_type": "code",
   "execution_count": null,
   "id": "9ffdb520",
   "metadata": {},
   "outputs": [],
   "source": [
    "add_vector = vector1 + vector2\n",
    "print(add_vector)"
   ]
  },
  {
   "cell_type": "code",
   "execution_count": null,
   "id": "d84b6400",
   "metadata": {},
   "outputs": [],
   "source": [
    "sub_vector = vector1 - vector2\n",
    "print(sub_vector)"
   ]
  },
  {
   "cell_type": "code",
   "execution_count": null,
   "id": "1caba4bc",
   "metadata": {},
   "outputs": [],
   "source": [
    "mul_vector = vector1 * vector2\n",
    "print(mul_vector)"
   ]
  },
  {
   "cell_type": "code",
   "execution_count": null,
   "id": "2682a1bd",
   "metadata": {},
   "outputs": [],
   "source": [
    "div_vector = vector1 / vector2\n",
    "print(div_vector)"
   ]
  },
  {
   "cell_type": "markdown",
   "id": "b8b0a539",
   "metadata": {},
   "source": [
    "메소드 이용하여 사칙연산 가능"
   ]
  },
  {
   "cell_type": "code",
   "execution_count": null,
   "id": "56c0e0b1",
   "metadata": {},
   "outputs": [],
   "source": [
    "torch.add(vector1, vector2)"
   ]
  },
  {
   "cell_type": "code",
   "execution_count": null,
   "id": "31c661db",
   "metadata": {},
   "outputs": [],
   "source": [
    "torch.sub(vector1, vector2)"
   ]
  },
  {
   "cell_type": "code",
   "execution_count": null,
   "id": "9f89160a",
   "metadata": {},
   "outputs": [],
   "source": [
    "torch.mul(vector1, vector2)"
   ]
  },
  {
   "cell_type": "code",
   "execution_count": null,
   "id": "2f370068",
   "metadata": {},
   "outputs": [],
   "source": [
    "torch.div(vector1, vector2)"
   ]
  },
  {
   "cell_type": "markdown",
   "id": "8fdc9f08",
   "metadata": {},
   "source": [
    "벡터 내적 연산 가능(`torch.dot()`, `torch.matmul()`)"
   ]
  },
  {
   "cell_type": "code",
   "execution_count": null,
   "id": "22facd8a",
   "metadata": {},
   "outputs": [],
   "source": [
    "torch.dot(vector1, vector2)"
   ]
  },
  {
   "cell_type": "code",
   "execution_count": null,
   "id": "196448db",
   "metadata": {},
   "outputs": [],
   "source": [
    "torch.matmul(vector1, vector2)"
   ]
  },
  {
   "cell_type": "markdown",
   "id": "32b5d35a",
   "metadata": {},
   "source": [
    "### Matrix\n",
    "2개 이상의 벡터 값을 통합해 구성된 값"
   ]
  },
  {
   "cell_type": "code",
   "execution_count": null,
   "id": "1524933f",
   "metadata": {},
   "outputs": [],
   "source": [
    "matrix1 = torch.tensor([[1., 2.], [3., 4.]])\n",
    "print(matrix1)"
   ]
  },
  {
   "cell_type": "code",
   "execution_count": null,
   "id": "85a830f6",
   "metadata": {},
   "outputs": [],
   "source": [
    "matrix2 = torch.tensor([[5., 6.], [7., 8.]])\n",
    "print(matrix2)"
   ]
  },
  {
   "cell_type": "markdown",
   "id": "e55f09cf",
   "metadata": {},
   "source": [
    "사칙연산 가능(element-wise)"
   ]
  },
  {
   "cell_type": "code",
   "execution_count": null,
   "id": "206bc7db",
   "metadata": {},
   "outputs": [],
   "source": [
    "sum_matrix = matrix1 + matrix2\n",
    "print(sum_matrix)"
   ]
  },
  {
   "cell_type": "code",
   "execution_count": null,
   "id": "fad95ec7",
   "metadata": {},
   "outputs": [],
   "source": [
    "sub_matrix = matrix1 - matrix2\n",
    "print(sub_matrix)"
   ]
  },
  {
   "cell_type": "code",
   "execution_count": null,
   "id": "4d487517",
   "metadata": {},
   "outputs": [],
   "source": [
    "mul_matrix = matrix1 * matrix2\n",
    "print(mul_matrix)"
   ]
  },
  {
   "cell_type": "code",
   "execution_count": null,
   "id": "ba3f2e30",
   "metadata": {},
   "outputs": [],
   "source": [
    "div_matrix = matrix1 / matrix2\n",
    "print(div_matrix)"
   ]
  },
  {
   "cell_type": "markdown",
   "id": "42fee050",
   "metadata": {},
   "source": [
    "메소드를 이용하여 사칙연산 가능"
   ]
  },
  {
   "cell_type": "code",
   "execution_count": null,
   "id": "a3737ab6",
   "metadata": {},
   "outputs": [],
   "source": [
    "torch.add(matrix1, matrix2)"
   ]
  },
  {
   "cell_type": "code",
   "execution_count": null,
   "id": "39184246",
   "metadata": {},
   "outputs": [],
   "source": [
    "torch.sub(matrix1, matrix2)"
   ]
  },
  {
   "cell_type": "code",
   "execution_count": null,
   "id": "90a93d9c",
   "metadata": {},
   "outputs": [],
   "source": [
    "torch.mul(matrix1, matrix2)"
   ]
  },
  {
   "cell_type": "code",
   "execution_count": null,
   "id": "a2a0ba6b",
   "metadata": {},
   "outputs": [],
   "source": [
    "torch.div(matrix1, matrix2)"
   ]
  },
  {
   "cell_type": "markdown",
   "id": "c6638582",
   "metadata": {},
   "source": [
    "행렬곱 연산 가능(`torch.matmul()`, `torch.mm()`)\n",
    "- `torch.dot()`은 벡터 내적 계산만 가능\n",
    "- `torch.mm()`은 행렬만 가능"
   ]
  },
  {
   "cell_type": "code",
   "execution_count": null,
   "id": "3c7a5255",
   "metadata": {},
   "outputs": [],
   "source": [
    "torch.matmul(matrix1, matrix2)"
   ]
  },
  {
   "cell_type": "code",
   "execution_count": null,
   "id": "8be4ccf9",
   "metadata": {},
   "outputs": [],
   "source": [
    "torch.mm(matrix1, matrix2)"
   ]
  },
  {
   "cell_type": "markdown",
   "id": "d16f4af7",
   "metadata": {},
   "source": [
    "### Tensor\n",
    "2차원 이상의 배열"
   ]
  },
  {
   "cell_type": "code",
   "execution_count": null,
   "id": "a8629eab",
   "metadata": {},
   "outputs": [],
   "source": [
    "tensor1 = torch.tensor([[[1., 2.], [3., 4.]], [[5., 6.], [7., 8.]]])\n",
    "print(tensor1)"
   ]
  },
  {
   "cell_type": "code",
   "execution_count": null,
   "id": "97a56cb2",
   "metadata": {},
   "outputs": [],
   "source": [
    "tensor2 = torch.tensor([[[9., 10.], [11., 12.]], [[13., 14.], [15., 16.]]])\n",
    "print(tensor2)"
   ]
  },
  {
   "cell_type": "markdown",
   "id": "b3547fec",
   "metadata": {},
   "source": [
    "사칙연산 가능(element-wise)"
   ]
  },
  {
   "cell_type": "code",
   "execution_count": null,
   "id": "e413b845",
   "metadata": {},
   "outputs": [],
   "source": [
    "sum_tensor = tensor1 + tensor2\n",
    "print(sum_tensor)"
   ]
  },
  {
   "cell_type": "code",
   "execution_count": null,
   "id": "be4ee9b4",
   "metadata": {},
   "outputs": [],
   "source": [
    "sub_tensor = tensor1 - tensor2\n",
    "print(sub_tensor)"
   ]
  },
  {
   "cell_type": "code",
   "execution_count": null,
   "id": "b556e2af",
   "metadata": {},
   "outputs": [],
   "source": [
    "mul_tensor = tensor1 * tensor2\n",
    "print(mul_tensor)"
   ]
  },
  {
   "cell_type": "code",
   "execution_count": null,
   "id": "2f14fa58",
   "metadata": {},
   "outputs": [],
   "source": [
    "div_tensor = tensor1 / tensor2\n",
    "print(div_tensor)"
   ]
  },
  {
   "cell_type": "markdown",
   "id": "63219d1c",
   "metadata": {},
   "source": [
    "메소드를 이용하여 사칙연산 가능"
   ]
  },
  {
   "cell_type": "code",
   "execution_count": null,
   "id": "17095368",
   "metadata": {},
   "outputs": [],
   "source": [
    "torch.add(tensor1, tensor2)"
   ]
  },
  {
   "cell_type": "code",
   "execution_count": null,
   "id": "1c8b1394",
   "metadata": {},
   "outputs": [],
   "source": [
    "torch.sub(tensor1, tensor2)"
   ]
  },
  {
   "cell_type": "code",
   "execution_count": null,
   "id": "6843fd9d",
   "metadata": {},
   "outputs": [],
   "source": [
    "torch.mul(tensor1, tensor2)"
   ]
  },
  {
   "cell_type": "code",
   "execution_count": null,
   "id": "eb3c9cbb",
   "metadata": {},
   "outputs": [],
   "source": [
    "torch.div(tensor1, tensor2)"
   ]
  },
  {
   "cell_type": "markdown",
   "id": "2a08ae6f",
   "metadata": {},
   "source": [
    "텐서곱 연산 가능(동일 차원 행렬 간 행렬 곱)"
   ]
  },
  {
   "cell_type": "code",
   "execution_count": null,
   "id": "9edf7ff7",
   "metadata": {},
   "outputs": [],
   "source": [
    "torch.matmul(tensor1, tensor2)"
   ]
  },
  {
   "cell_type": "markdown",
   "id": "3c3b32f0",
   "metadata": {},
   "source": [
    "## <font color = \"#CC3D3D\">Tensor Manipulation"
   ]
  },
  {
   "cell_type": "markdown",
   "id": "b437c025",
   "metadata": {},
   "source": [
    "### 1D Array with PyTorch"
   ]
  },
  {
   "cell_type": "code",
   "execution_count": null,
   "id": "b8b819c6",
   "metadata": {},
   "outputs": [],
   "source": [
    "t = torch.FloatTensor([0., 1., 2., 3., 4., 5., 6.])\n",
    "print(t)"
   ]
  },
  {
   "cell_type": "code",
   "execution_count": null,
   "id": "23ce2dcf",
   "metadata": {
    "scrolled": true
   },
   "outputs": [],
   "source": [
    "print(t.dim())  # rank\n",
    "print(t.shape)  # shape\n",
    "print(t.size()) # shape\n",
    "print(t[0], t[1], t[-1])  # Indexing\n",
    "print(t[2:5], t[4:-1])    # Slicing\n",
    "print(t[:2], t[3:])       # Slicing"
   ]
  },
  {
   "cell_type": "markdown",
   "id": "47355d4c",
   "metadata": {},
   "source": [
    "### 2D Array with PyTorch"
   ]
  },
  {
   "cell_type": "code",
   "execution_count": null,
   "id": "d4184112",
   "metadata": {},
   "outputs": [],
   "source": [
    "t = torch.FloatTensor([[1., 2., 3.],\n",
    "                       [4., 5., 6.],\n",
    "                       [7., 8., 9.],\n",
    "                       [10., 11., 12.]\n",
    "                      ])\n",
    "print(t)"
   ]
  },
  {
   "cell_type": "code",
   "execution_count": null,
   "id": "acdcd511",
   "metadata": {},
   "outputs": [],
   "source": [
    "print(t.dim())  # rank\n",
    "print(t.size()) # shape\n",
    "print(t[:, 1])\n",
    "print(t[:, 1].size())\n",
    "print(t[:, :-1])"
   ]
  },
  {
   "cell_type": "markdown",
   "id": "d84cd384",
   "metadata": {},
   "source": [
    "### Broadcasting"
   ]
  },
  {
   "cell_type": "code",
   "execution_count": null,
   "id": "36368fb3",
   "metadata": {},
   "outputs": [],
   "source": [
    "# Same shape\n",
    "m1 = torch.FloatTensor([[3, 3]])\n",
    "m2 = torch.FloatTensor([[2, 2]])\n",
    "print(m1 + m2)"
   ]
  },
  {
   "cell_type": "code",
   "execution_count": null,
   "id": "3f0449df",
   "metadata": {},
   "outputs": [],
   "source": [
    "# Vector + scalar\n",
    "m1 = torch.FloatTensor([[1, 2]])\n",
    "m2 = torch.FloatTensor([3]) # 3 -> [[3, 3]]\n",
    "print(m1 + m2)"
   ]
  },
  {
   "cell_type": "code",
   "execution_count": null,
   "id": "ec9d423c",
   "metadata": {},
   "outputs": [],
   "source": [
    "# 2 x 1 Vector + 1 x 2 Vector\n",
    "m1 = torch.FloatTensor([[1, 2]])\n",
    "m2 = torch.FloatTensor([[3], [4]])\n",
    "print(m1 + m2)"
   ]
  },
  {
   "cell_type": "markdown",
   "id": "4b8b70c3",
   "metadata": {},
   "source": [
    "### Mean"
   ]
  },
  {
   "cell_type": "code",
   "execution_count": null,
   "id": "37c657d0",
   "metadata": {},
   "outputs": [],
   "source": [
    "t = torch.FloatTensor([1, 2])\n",
    "print(t.mean())"
   ]
  },
  {
   "cell_type": "code",
   "execution_count": null,
   "id": "094ef506",
   "metadata": {},
   "outputs": [],
   "source": [
    "t = torch.FloatTensor([[1, 2], [3, 4]])\n",
    "print(t)"
   ]
  },
  {
   "cell_type": "code",
   "execution_count": null,
   "id": "0d42f355",
   "metadata": {},
   "outputs": [],
   "source": [
    "print(t.mean())\n",
    "print(t.mean(dim=0))\n",
    "print(t.mean(dim=1))\n",
    "print(t.mean(dim=-1))"
   ]
  },
  {
   "cell_type": "markdown",
   "id": "0b4b9782",
   "metadata": {},
   "source": [
    "### Sum"
   ]
  },
  {
   "cell_type": "code",
   "execution_count": null,
   "id": "9ff32378",
   "metadata": {},
   "outputs": [],
   "source": [
    "t = torch.FloatTensor([[1, 2], [3, 4]])\n",
    "print(t)"
   ]
  },
  {
   "cell_type": "code",
   "execution_count": null,
   "id": "fbba8d84",
   "metadata": {},
   "outputs": [],
   "source": [
    "print(t.sum())\n",
    "print(t.sum(dim=0))\n",
    "print(t.sum(dim=1))\n",
    "print(t.sum(dim=-1))"
   ]
  },
  {
   "cell_type": "markdown",
   "id": "297538bb",
   "metadata": {},
   "source": [
    "### Max and Argmax"
   ]
  },
  {
   "cell_type": "code",
   "execution_count": null,
   "id": "0a71a050",
   "metadata": {},
   "outputs": [],
   "source": [
    "t = torch.FloatTensor([[1, 2], [3, 4]])\n",
    "print(t)"
   ]
  },
  {
   "cell_type": "code",
   "execution_count": null,
   "id": "3d43e021",
   "metadata": {},
   "outputs": [],
   "source": [
    "print(t.max()) # max 한 개의 값 반환"
   ]
  },
  {
   "cell_type": "code",
   "execution_count": null,
   "id": "7ab26be4",
   "metadata": {},
   "outputs": [],
   "source": [
    "print(t.max(dim=0)) # dim을 주면 argmax도 같이 내보내준다.\n",
    "print('Max: ', t.max(dim=0)[0])\n",
    "print('Argmax: ', t.max(dim=0)[1])"
   ]
  },
  {
   "cell_type": "code",
   "execution_count": null,
   "id": "77cac1ef",
   "metadata": {},
   "outputs": [],
   "source": [
    "print(t.max(dim=1))\n",
    "print(t.max(dim=-1))"
   ]
  },
  {
   "cell_type": "code",
   "execution_count": null,
   "id": "2e5d566a",
   "metadata": {},
   "outputs": [],
   "source": [
    "t.argmax() # max인 값의 위치(index)"
   ]
  },
  {
   "cell_type": "markdown",
   "id": "05cfaad4",
   "metadata": {},
   "source": [
    "### View\n",
    "numpy 에서의 reshape와 같은 역할<br>\n",
    "shape 바꿔줌"
   ]
  },
  {
   "cell_type": "code",
   "execution_count": null,
   "id": "fd00c053",
   "metadata": {},
   "outputs": [],
   "source": [
    "import numpy as np\n",
    "\n",
    "t = np.array([[[0, 1, 2],\n",
    "               [3, 4, 5]],\n",
    "\n",
    "              [[6, 7, 8],\n",
    "               [9, 10, 11]]])\n",
    "ft = torch.FloatTensor(t)\n",
    "print(ft.shape)"
   ]
  },
  {
   "cell_type": "code",
   "execution_count": null,
   "id": "23c3741b",
   "metadata": {},
   "outputs": [],
   "source": [
    "print(ft.view([-1, 3]))\n",
    "print(ft.view([-1, 3]).shape)"
   ]
  },
  {
   "cell_type": "code",
   "execution_count": null,
   "id": "c6eb58a8",
   "metadata": {},
   "outputs": [],
   "source": [
    "print(ft.view([-1, 1, 3]))\n",
    "print(ft.view([-1, 1, 3]).shape)"
   ]
  },
  {
   "cell_type": "markdown",
   "id": "16807f47",
   "metadata": {},
   "source": [
    "### Squeeze\n",
    "쥐어 짜다. 1D로 바꿔준다."
   ]
  },
  {
   "cell_type": "code",
   "execution_count": null,
   "id": "ead98764",
   "metadata": {},
   "outputs": [],
   "source": [
    "ft = torch.FloatTensor([[0], [1], [2]])\n",
    "print(ft)\n",
    "print(ft.shape)"
   ]
  },
  {
   "cell_type": "code",
   "execution_count": null,
   "id": "2de5fc89",
   "metadata": {},
   "outputs": [],
   "source": [
    "print(ft.squeeze())\n",
    "print(ft.squeeze().shape)"
   ]
  },
  {
   "cell_type": "markdown",
   "id": "15196d2e",
   "metadata": {},
   "source": [
    "### Unsqueeze\n",
    "squeeze를 반대로"
   ]
  },
  {
   "cell_type": "code",
   "execution_count": null,
   "id": "aebbba68",
   "metadata": {},
   "outputs": [],
   "source": [
    "ft = torch.Tensor([0, 1, 2])\n",
    "print(ft.shape)"
   ]
  },
  {
   "cell_type": "code",
   "execution_count": null,
   "id": "e2cb1a0f",
   "metadata": {},
   "outputs": [],
   "source": [
    "print(ft.unsqueeze(0)) # dim=0, dimension 0에 1을 넣어\n",
    "print(ft.unsqueeze(0).shape)"
   ]
  },
  {
   "cell_type": "code",
   "execution_count": null,
   "id": "e304c7ac",
   "metadata": {},
   "outputs": [],
   "source": [
    "print(ft.view(1, -1)) # unsqueeze(0)\n",
    "print(ft.view(1, -1).shape)"
   ]
  },
  {
   "cell_type": "code",
   "execution_count": null,
   "id": "fe5bcbac",
   "metadata": {},
   "outputs": [],
   "source": [
    "print(ft.unsqueeze(1)) # dim=1, dimension 1에 1을 넣어\n",
    "print(ft.unsqueeze(1).shape)"
   ]
  },
  {
   "cell_type": "code",
   "execution_count": null,
   "id": "eb29194d",
   "metadata": {},
   "outputs": [],
   "source": [
    "print(ft.unsqueeze(-1))\n",
    "print(ft.unsqueeze(-1).shape)"
   ]
  },
  {
   "cell_type": "markdown",
   "id": "8a0e203a",
   "metadata": {},
   "source": [
    "### Scatter (for one-hot encoding)"
   ]
  },
  {
   "cell_type": "code",
   "execution_count": null,
   "id": "11cd9073",
   "metadata": {},
   "outputs": [],
   "source": [
    "lt = torch.LongTensor([[0], [1], [2], [0]])\n",
    "print(lt)"
   ]
  },
  {
   "cell_type": "code",
   "execution_count": null,
   "id": "9f2cbf8d",
   "metadata": {},
   "outputs": [],
   "source": [
    "one_hot = torch.zeros(4, 3) # batch_size = 4, classes = 3\n",
    "one_hot.scatter_(1, lt, 1)\n",
    "print(one_hot)"
   ]
  },
  {
   "cell_type": "markdown",
   "id": "29a422de",
   "metadata": {},
   "source": [
    "### Casting\n",
    "type 변환"
   ]
  },
  {
   "cell_type": "code",
   "execution_count": null,
   "id": "3219c159",
   "metadata": {},
   "outputs": [],
   "source": [
    "lt = torch.LongTensor([1, 2, 3, 4])\n",
    "print(lt)"
   ]
  },
  {
   "cell_type": "code",
   "execution_count": null,
   "id": "427bdd74",
   "metadata": {},
   "outputs": [],
   "source": [
    "print(lt.float())"
   ]
  },
  {
   "cell_type": "code",
   "execution_count": null,
   "id": "3cf1c040",
   "metadata": {},
   "outputs": [],
   "source": [
    "bt = torch.ByteTensor([True, False, False, True])\n",
    "print(bt)"
   ]
  },
  {
   "cell_type": "code",
   "execution_count": null,
   "id": "912752a1",
   "metadata": {},
   "outputs": [],
   "source": [
    "print(bt.long())\n",
    "print(bt.float())"
   ]
  },
  {
   "cell_type": "markdown",
   "id": "e1b04a80",
   "metadata": {},
   "source": [
    "### Concatenation"
   ]
  },
  {
   "cell_type": "code",
   "execution_count": null,
   "id": "6b39349e",
   "metadata": {},
   "outputs": [],
   "source": [
    "x = torch.FloatTensor([[1, 2], [3, 4]])\n",
    "y = torch.FloatTensor([[5, 6], [7, 8]])"
   ]
  },
  {
   "cell_type": "code",
   "execution_count": null,
   "id": "b9e84710",
   "metadata": {},
   "outputs": [],
   "source": [
    "print(torch.cat([x, y], dim=0)) # dim 0이 늘어남\n",
    "print(torch.cat([x, y], dim=1)) # dim 1이 늘어남"
   ]
  },
  {
   "cell_type": "markdown",
   "id": "1aeac0d6",
   "metadata": {},
   "source": [
    "### Stacking\n",
    "concatenate 편리하게 이용"
   ]
  },
  {
   "cell_type": "code",
   "execution_count": null,
   "id": "a3cdee47",
   "metadata": {},
   "outputs": [],
   "source": [
    "x = torch.FloatTensor([1, 4])\n",
    "y = torch.FloatTensor([2, 5])\n",
    "z = torch.FloatTensor([3, 6])"
   ]
  },
  {
   "cell_type": "code",
   "execution_count": null,
   "id": "c3917be7",
   "metadata": {},
   "outputs": [],
   "source": [
    "print(torch.stack([x, y, z]))\n",
    "print(torch.stack([x, y, z], dim=1))"
   ]
  },
  {
   "cell_type": "code",
   "execution_count": null,
   "id": "9d168e39",
   "metadata": {},
   "outputs": [],
   "source": [
    "print(torch.cat([x.unsqueeze(0), y.unsqueeze(0), z.unsqueeze(0)], dim=0))"
   ]
  },
  {
   "cell_type": "code",
   "execution_count": null,
   "id": "72d9a3c7",
   "metadata": {},
   "outputs": [],
   "source": [
    "print(torch.cat([x.unsqueeze(1), y.unsqueeze(1), z.unsqueeze(1)], dim=1))"
   ]
  },
  {
   "cell_type": "markdown",
   "id": "2f609616",
   "metadata": {},
   "source": [
    "### Ones and Zeros Like"
   ]
  },
  {
   "cell_type": "code",
   "execution_count": null,
   "id": "c8e6f86e",
   "metadata": {},
   "outputs": [],
   "source": [
    "x = torch.FloatTensor([[0, 1, 2], [2, 1, 0]])\n",
    "print(x)"
   ]
  },
  {
   "cell_type": "code",
   "execution_count": null,
   "id": "aca09668",
   "metadata": {},
   "outputs": [],
   "source": [
    "print(torch.ones_like(x)) # 똑같은 shape로 만듦\n",
    "print(torch.zeros_like(x))"
   ]
  },
  {
   "cell_type": "markdown",
   "id": "d0d5a786",
   "metadata": {},
   "source": [
    "### In-place Operation"
   ]
  },
  {
   "cell_type": "code",
   "execution_count": null,
   "id": "055395d3",
   "metadata": {},
   "outputs": [],
   "source": [
    "x = torch.FloatTensor([[1, 2], [3, 4]])"
   ]
  },
  {
   "cell_type": "code",
   "execution_count": null,
   "id": "165b714f",
   "metadata": {},
   "outputs": [],
   "source": [
    "print(x.mul(2.)) # 실행 결과가 변수에 저장되지 않음\n",
    "print(x)\n",
    "print(x.mul_(2.)) # _ 추가 시, 메모리에 새로 선언하지 않고 정답값에 바로 넣음\n",
    "print(x)"
   ]
  }
 ],
 "metadata": {
  "kernelspec": {
   "display_name": "Python 3 (ipykernel)",
   "language": "python",
   "name": "python3"
  },
  "language_info": {
   "codemirror_mode": {
    "name": "ipython",
    "version": 3
   },
   "file_extension": ".py",
   "mimetype": "text/x-python",
   "name": "python",
   "nbconvert_exporter": "python",
   "pygments_lexer": "ipython3",
   "version": "3.9.13"
  }
 },
 "nbformat": 4,
 "nbformat_minor": 5
}
