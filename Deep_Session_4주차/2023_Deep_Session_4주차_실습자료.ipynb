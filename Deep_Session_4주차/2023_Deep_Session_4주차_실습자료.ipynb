{
 "cells": [
  {
   "cell_type": "markdown",
   "id": "27d07406",
   "metadata": {},
   "source": [
    "# 2023 Deep Session 4주차"
   ]
  },
  {
   "cell_type": "markdown",
   "id": "0536bdaa",
   "metadata": {},
   "source": [
    "- [CNN 모델 설계](#CNN-모델-Class-(1))\n",
    "- [과제](#4주차-과제)"
   ]
  },
  {
   "cell_type": "markdown",
   "id": "f35fc37d",
   "metadata": {},
   "source": [
    "#### 필요한 Module Import 및 변수 설정"
   ]
  },
  {
   "cell_type": "code",
   "execution_count": 1,
   "id": "40c26c95",
   "metadata": {},
   "outputs": [],
   "source": [
    "''' 1. Module Import '''\n",
    "import warnings\n",
    "warnings.simplefilter('ignore')\n",
    "\n",
    "import numpy as np\n",
    "import matplotlib.pyplot as plt\n",
    "\n",
    "import torch\n",
    "import torch.nn as nn\n",
    "import torch.nn.functional as F\n",
    "from torchvision import transforms, datasets"
   ]
  },
  {
   "cell_type": "code",
   "execution_count": 2,
   "id": "fa8b8f89",
   "metadata": {},
   "outputs": [],
   "source": [
    "# Batch_Size, Train_epoch 설정\n",
    "BATCH_SIZE = 128\n",
    "TRN_EPOCHS = 10"
   ]
  },
  {
   "cell_type": "markdown",
   "id": "cc272c72",
   "metadata": {},
   "source": [
    "#### device 설정"
   ]
  },
  {
   "cell_type": "code",
   "execution_count": 3,
   "id": "41bdc0c6",
   "metadata": {},
   "outputs": [
    {
     "name": "stdout",
     "output_type": "stream",
     "text": [
      "Using PyTorch version: 2.0.0  Device: cuda\n"
     ]
    }
   ],
   "source": [
    "''' 2. 딥러닝 모델을 설계할 때 활용하는 장비 확인 '''\n",
    "if torch.cuda.is_available():\n",
    "    DEVICE = torch.device('cuda')\n",
    "else:\n",
    "    DEVICE = torch.device('cpu')\n",
    "print('Using PyTorch version:', torch.__version__, ' Device:', DEVICE)"
   ]
  },
  {
   "cell_type": "markdown",
   "id": "9adc7931",
   "metadata": {},
   "source": [
    "#### 데이터셋 다운로드 및 확인"
   ]
  },
  {
   "cell_type": "code",
   "execution_count": null,
   "id": "52a6f777",
   "metadata": {},
   "outputs": [],
   "source": [
    "''' 3. CIFAR10 데이터 다운로드(Train set, Test set 분리하기) '''\n",
    "train_dataset = datasets.CIFAR10(root = \"../data/CIFAR_10\",\n",
    "                                 train = True,\n",
    "                                 download = True,\n",
    "                                 transform = transforms.ToTensor()) # 이미지를 Tensor 형태로 변환(0~1)\n",
    "\n",
    "test_dataset = datasets.CIFAR10(root = \"../data/CIFAR_10\",\n",
    "                                train = False,\n",
    "                                transform = transforms.ToTensor())\n",
    "\n",
    "train_loader = torch.utils.data.DataLoader(dataset = train_dataset,\n",
    "                                           batch_size = BATCH_SIZE,\n",
    "                                           shuffle = True)\n",
    "\n",
    "test_loader = torch.utils.data.DataLoader(dataset = test_dataset,\n",
    "                                          batch_size = BATCH_SIZE,\n",
    "                                          shuffle = False)"
   ]
  },
  {
   "cell_type": "markdown",
   "id": "d05005f4",
   "metadata": {},
   "source": [
    "------\n",
    "##### Data Augmentation 기법\n",
    "- `transforms.RandomHorizontalFlip()` : 해당 이미지를 50%의 확률로 좌우 반전\n",
    "- `transforms.Normalize((R 평균, G 평균, B 평균), (R 표준편차, G 표준편차, B 표준편차))` : 각 채널별 이미지 픽셀 값을 채널별 평균을 뺀 뒤 표준편차로 나누어 계산\n",
    "    - 최소값 : (0 - 0.5) / 0.5 = -1\n",
    "    - 최대값 : (1 - 0.5) / 0.5 = 1"
   ]
  },
  {
   "cell_type": "code",
   "execution_count": 6,
   "id": "d5ed2841",
   "metadata": {},
   "outputs": [
    {
     "name": "stdout",
     "output_type": "stream",
     "text": [
      "Files already downloaded and verified\n"
     ]
    }
   ],
   "source": [
    "# 데이터 다운로드 시 Data Augmentation 기법 적용하기\n",
    "train_dataset = datasets.CIFAR10(root = \"../data/CIFAR_10\",\n",
    "                                 train = True,\n",
    "                                 download = True,\n",
    "                                 transform = transforms.Compose([transforms.RandomHorizontalFlip(),\n",
    "                                                                 transforms.ToTensor(),\n",
    "                                                                 transforms.Normalize((0.5, 0.5, 0.5), (0.5, 0.5, 0.5))]))\n",
    "\n",
    "test_dataset = datasets.CIFAR10(root = \"../data/CIFAR_10\",\n",
    "                                train = False,\n",
    "                                transform = transforms.Compose([transforms.RandomHorizontalFlip(),\n",
    "                                                                transforms.ToTensor(),\n",
    "                                                                transforms.Normalize((0.5, 0.5, 0.5), (0.5, 0.5, 0.5))]))\n",
    "\n",
    "train_loader = torch.utils.data.DataLoader(dataset = train_dataset,\n",
    "                                           batch_size = BATCH_SIZE,\n",
    "                                           shuffle = True)\n",
    "\n",
    "test_loader = torch.utils.data.DataLoader(dataset = test_dataset,\n",
    "                                          batch_size = BATCH_SIZE,\n",
    "                                          shuffle = False)"
   ]
  },
  {
   "cell_type": "markdown",
   "id": "db8be27b",
   "metadata": {},
   "source": [
    "------"
   ]
  },
  {
   "cell_type": "code",
   "execution_count": 7,
   "id": "beb7e12f",
   "metadata": {},
   "outputs": [
    {
     "name": "stdout",
     "output_type": "stream",
     "text": [
      "X_train: torch.Size([128, 3, 32, 32]) type: torch.FloatTensor\n",
      "y_train: torch.Size([128]) type: torch.LongTensor\n"
     ]
    }
   ],
   "source": [
    "''' 4. 데이터 확인하기 (1) '''\n",
    "for (X_train, y_train) in train_loader:\n",
    "    print('X_train:', X_train.size(), 'type:', X_train.type())\n",
    "    print('y_train:', y_train.size(), 'type:', y_train.type())\n",
    "    break"
   ]
  },
  {
   "cell_type": "code",
   "execution_count": 12,
   "id": "aa2bfc48",
   "metadata": {},
   "outputs": [
    {
     "name": "stderr",
     "output_type": "stream",
     "text": [
      "Clipping input data to the valid range for imshow with RGB data ([0..1] for floats or [0..255] for integers).\n",
      "Clipping input data to the valid range for imshow with RGB data ([0..1] for floats or [0..255] for integers).\n",
      "Clipping input data to the valid range for imshow with RGB data ([0..1] for floats or [0..255] for integers).\n",
      "Clipping input data to the valid range for imshow with RGB data ([0..1] for floats or [0..255] for integers).\n",
      "Clipping input data to the valid range for imshow with RGB data ([0..1] for floats or [0..255] for integers).\n",
      "Clipping input data to the valid range for imshow with RGB data ([0..1] for floats or [0..255] for integers).\n",
      "Clipping input data to the valid range for imshow with RGB data ([0..1] for floats or [0..255] for integers).\n",
      "Clipping input data to the valid range for imshow with RGB data ([0..1] for floats or [0..255] for integers).\n",
      "Clipping input data to the valid range for imshow with RGB data ([0..1] for floats or [0..255] for integers).\n",
      "Clipping input data to the valid range for imshow with RGB data ([0..1] for floats or [0..255] for integers).\n"
     ]
    },
    {
     "data": {
      "image/png": "[encoded data removed]",
      "text/plain": [
       "<Figure size 1000x100 with 10 Axes>"
      ]
     },
     "metadata": {},
     "output_type": "display_data"
    }
   ],
   "source": [
    "pltsize = 1\n",
    "plt.figure(figsize=(10 * pltsize, pltsize))\n",
    "\n",
    "for i in range(10):\n",
    "    plt.subplot(1, 10, i + 1)\n",
    "    plt.axis('off') # 이미지 주변의 축과 라벨을 제거\n",
    "    plt.imshow(np.transpose(X_train[i], (1, 2, 0))) #imshow : 이미지로 변환 , np.transpose : 텐서의 축 순서 변경\n",
    "    plt.title('Class: ' + str(y_train[i].item()))"
   ]
  },
  {
   "cell_type": "markdown",
   "id": "a991cbc0",
   "metadata": {},
   "source": [
    "#### 모델 설계\n",
    "## CNN 모델 Class (1)"
   ]
  },
  {
   "cell_type": "code",
   "execution_count": 20,
   "id": "f2ba504e",
   "metadata": {},
   "outputs": [],
   "source": [
    "''' 6. Convolutional Neural Network(CNN) 모델 설계하기 (1) '''\n",
    "class CNN(nn.Module):\n",
    "    def __init__(self):\n",
    "        super(CNN, self).__init__()\n",
    "        \n",
    "        self.conv1 = nn.Conv2d(in_channels = 3, out_channels = 8, kernel_size = 3, padding = 1) # 이미지의 채널 수(3)를 입력받아 8개의 필터를 적용해 출력 채널 수(8)을 만듦\n",
    "        self.conv2 = nn.Conv2d(in_channels = 8, out_channels = 16, kernel_size = 3, padding = 1) # 이전 레이어의 채널 수(8)를 입력받아 16개의 필터를 적용해 출력 채널 수(16)을 만듦\n",
    "        self.pool = nn.MaxPool2d(kernel_size = 2, stride = 2) \n",
    "        \n",
    "        self.fc1 = nn.Linear(1024, 64)\n",
    "        self.fc2 = nn.Linear(64, 32)\n",
    "        self.fc3 = nn.Linear(32, 10)\n",
    "\n",
    "        \n",
    "    def forward(self, x):\n",
    "        x = self.conv1(x) # (batch_size, 3, 32, 32) -> (batch_size, 8, 32, 32)\n",
    "        x = F.relu(x)\n",
    "        x = self.pool(x)  # \n",
    "        x = self.conv2(x) # \n",
    "        x = F.relu(x)\n",
    "        x = self.pool(x)  # \n",
    "\n",
    "        x = x.view(-1, 1024)\n",
    "        \n",
    "        x = self.fc1(x)\n",
    "        x = F.relu(x)\n",
    "        x = self.fc2(x)\n",
    "        x = F.relu(x)\n",
    "        x = self.fc3(x)\n",
    "        out = F.log_softmax(x)\n",
    "        return out"
   ]
  },
  {
   "cell_type": "markdown",
   "id": "a09680ee",
   "metadata": {},
   "source": [
    "## CNN 모델 Class (2)"
   ]
  },
  {
   "cell_type": "code",
   "execution_count": 21,
   "id": "0bf8124e",
   "metadata": {},
   "outputs": [],
   "source": [
    "''' 7. Convolutional Neural Network(CNN) 모델 설계하기 (2) '''\n",
    "class CNN2(nn.Module):\n",
    "    def __init__(self):\n",
    "        super(CNN2, self).__init__()\n",
    "        \n",
    "        self.feature_layer = nn.Sequential(\n",
    "            nn.Conv2d(in_channels = 3, out_channels = 8, kernel_size = 3, padding = 1),\n",
    "            nn.ReLU(),\n",
    "            nn.MaxPool2d(kernel_size = 2, stride = 2),\n",
    "            \n",
    "            nn.Conv2d(in_channels = 8, out_channels = 16, kernel_size = 3, padding = 1),\n",
    "            nn.ReLU(),\n",
    "            nn.MaxPool2d(kernel_size = 2, stride = 2)\n",
    "        )\n",
    "        \n",
    "        self.fc_layer = nn.Sequential(\n",
    "            nn.Linear(1024, 64),\n",
    "            nn.ReLU(),\n",
    "            nn.Linear(64, 32),\n",
    "            nn.ReLU(),\n",
    "            nn.Linear(32, 10)\n",
    "        )\n",
    "        \n",
    "        \n",
    "    def forward(self, x):\n",
    "        x = self.feature_layer(x)\n",
    "\n",
    "        x = x.view(-1, 1024)\n",
    "        \n",
    "        x = self.fc_layer(x)\n",
    "        out = F.log_softmax(x)\n",
    "        return out"
   ]
  },
  {
   "cell_type": "code",
   "execution_count": 22,
   "id": "3a3d012c",
   "metadata": {},
   "outputs": [
    {
     "name": "stdout",
     "output_type": "stream",
     "text": [
      "CNN(\n",
      "  (conv1): Conv2d(3, 8, kernel_size=(3, 3), stride=(1, 1), padding=(1, 1))\n",
      "  (conv2): Conv2d(8, 16, kernel_size=(3, 3), stride=(1, 1), padding=(1, 1))\n",
      "  (pool): MaxPool2d(kernel_size=2, stride=2, padding=0, dilation=1, ceil_mode=False)\n",
      "  (fc1): Linear(in_features=1024, out_features=64, bias=True)\n",
      "  (fc2): Linear(in_features=64, out_features=32, bias=True)\n",
      "  (fc3): Linear(in_features=32, out_features=10, bias=True)\n",
      ")\n"
     ]
    }
   ],
   "source": [
    "# 생성한 모델 확인\n",
    "model = CNN().to(DEVICE)\n",
    "print(model)"
   ]
  },
  {
   "cell_type": "markdown",
   "id": "21f1382c",
   "metadata": {},
   "source": [
    "#### Optimizer, Objective Function 설정"
   ]
  },
  {
   "cell_type": "code",
   "execution_count": 23,
   "id": "6f2df856",
   "metadata": {},
   "outputs": [],
   "source": [
    "''' 8. Optimizer, Objective Function 설정하기 '''\n",
    "optimizer = torch.optim.Adam(model.parameters(), lr = 0.001)\n",
    "criterion = nn.CrossEntropyLoss()"
   ]
  },
  {
   "cell_type": "markdown",
   "id": "b73492df",
   "metadata": {},
   "source": [
    "#### 모델 학습 및 학습 데이터의 성능 확인하는 `train` 함수 정의"
   ]
  },
  {
   "cell_type": "code",
   "execution_count": 24,
   "id": "6113bc01",
   "metadata": {},
   "outputs": [],
   "source": [
    "''' 9. CNN 모델 학습을 진행하며 학습 데이터에 대한 모델 성능을 확인하는 함수 정의 '''\n",
    "def train(model, train_loader, optimizer, log_interval):\n",
    "    model.train()                       # 학습 상태로 지정\n",
    "    for batch_idx, (image, label) in enumerate(train_loader):\n",
    "        image = image.to(DEVICE)\n",
    "        label = label.to(DEVICE)\n",
    "        optimizer.zero_grad()           # Optimizer의 Gradient를 0으로 초기화\n",
    "        output = model(image)\n",
    "        loss = criterion(output, label) # CrossEntropy를 이용해 Loss값 계산\n",
    "        loss.backward()\n",
    "        optimizer.step()\n",
    "\n",
    "        if batch_idx % log_interval == 0:\n",
    "            print(\"Train Epoch: {} [{}/{} ({:.0f}%)]\\tTrain Loss: {:.6f}\".format(\n",
    "                epoch, batch_idx * len(image), \n",
    "                len(train_loader.dataset), 100. * batch_idx / len(train_loader), \n",
    "                loss.item()))"
   ]
  },
  {
   "cell_type": "markdown",
   "id": "7a4279a8",
   "metadata": {},
   "source": [
    "#### 검증 데이터의 성능 확인하는 `evaluate` 함수 정의"
   ]
  },
  {
   "cell_type": "code",
   "execution_count": 25,
   "id": "66ffcb74",
   "metadata": {},
   "outputs": [],
   "source": [
    "''' 10. 학습되는 과정 속에서 검증 데이터에 대한 모델 성능을 확인하는 함수 정의 '''\n",
    "def evaluate(model, test_loader):\n",
    "    model.eval()                          # 평가 상태로 지정\n",
    "    test_loss = 0\n",
    "    correct = 0                           # 올바른 Class로 평가했는지 알아보기 위해 임의 변수 설정\n",
    "\n",
    "    with torch.no_grad():                 # Gradient를 통해 파라미터 값들이 업데이트되는 현상 방지\n",
    "        for image, label in test_loader:\n",
    "            image = image.to(DEVICE)\n",
    "            label = label.to(DEVICE)\n",
    "            output = model(image)\n",
    "            test_loss += criterion(output, label).item()                     # test_loss값 업데이트\n",
    "            prediction = output.max(1, keepdim = True)[1]\n",
    "            correct += prediction.eq(label.view_as(prediction)).sum().item() # 예측 클래스와 실제 레이블 클래스 비교\n",
    "    \n",
    "    test_loss /= (len(test_loader.dataset) / BATCH_SIZE)\n",
    "    test_accuracy = 100. * correct / len(test_loader.dataset)                # 정확도 계산\n",
    "    return test_loss, test_accuracy"
   ]
  },
  {
   "cell_type": "markdown",
   "id": "1aff86bf",
   "metadata": {},
   "source": [
    "#### 학습 실행 및 Loss와 Accuracy 확인"
   ]
  },
  {
   "cell_type": "code",
   "execution_count": 26,
   "id": "7d42b278",
   "metadata": {
    "scrolled": true
   },
   "outputs": [
    {
     "name": "stdout",
     "output_type": "stream",
     "text": [
      "Train Epoch: 1 [0/50000 (0%)]\tTrain Loss: 2.299744\n",
      "Train Epoch: 1 [12800/50000 (26%)]\tTrain Loss: 1.736109\n",
      "Train Epoch: 1 [25600/50000 (51%)]\tTrain Loss: 1.555398\n",
      "Train Epoch: 1 [38400/50000 (77%)]\tTrain Loss: 1.529320\n",
      "\n",
      "[EPOCH: 1], \tTest Loss: 1.4910, \tTest Accuracy: 46.05 % \n",
      "\n",
      "Train Epoch: 2 [0/50000 (0%)]\tTrain Loss: 1.415278\n",
      "Train Epoch: 2 [12800/50000 (26%)]\tTrain Loss: 1.395038\n",
      "Train Epoch: 2 [25600/50000 (51%)]\tTrain Loss: 1.328597\n",
      "Train Epoch: 2 [38400/50000 (77%)]\tTrain Loss: 1.268923\n",
      "\n",
      "[EPOCH: 2], \tTest Loss: 1.3246, \tTest Accuracy: 53.20 % \n",
      "\n",
      "Train Epoch: 3 [0/50000 (0%)]\tTrain Loss: 1.248987\n",
      "Train Epoch: 3 [12800/50000 (26%)]\tTrain Loss: 1.308141\n",
      "Train Epoch: 3 [25600/50000 (51%)]\tTrain Loss: 1.375223\n",
      "Train Epoch: 3 [38400/50000 (77%)]\tTrain Loss: 1.309328\n",
      "\n",
      "[EPOCH: 3], \tTest Loss: 1.2774, \tTest Accuracy: 54.52 % \n",
      "\n",
      "Train Epoch: 4 [0/50000 (0%)]\tTrain Loss: 1.286900\n",
      "Train Epoch: 4 [12800/50000 (26%)]\tTrain Loss: 1.188266\n",
      "Train Epoch: 4 [25600/50000 (51%)]\tTrain Loss: 1.174448\n",
      "Train Epoch: 4 [38400/50000 (77%)]\tTrain Loss: 1.154212\n",
      "\n",
      "[EPOCH: 4], \tTest Loss: 1.1712, \tTest Accuracy: 58.72 % \n",
      "\n",
      "Train Epoch: 5 [0/50000 (0%)]\tTrain Loss: 1.036161\n",
      "Train Epoch: 5 [12800/50000 (26%)]\tTrain Loss: 1.027892\n",
      "Train Epoch: 5 [25600/50000 (51%)]\tTrain Loss: 1.178728\n",
      "Train Epoch: 5 [38400/50000 (77%)]\tTrain Loss: 1.066116\n",
      "\n",
      "[EPOCH: 5], \tTest Loss: 1.1310, \tTest Accuracy: 59.82 % \n",
      "\n",
      "Train Epoch: 6 [0/50000 (0%)]\tTrain Loss: 1.056334\n",
      "Train Epoch: 6 [12800/50000 (26%)]\tTrain Loss: 1.196222\n",
      "Train Epoch: 6 [25600/50000 (51%)]\tTrain Loss: 1.122737\n",
      "Train Epoch: 6 [38400/50000 (77%)]\tTrain Loss: 1.226141\n",
      "\n",
      "[EPOCH: 6], \tTest Loss: 1.0680, \tTest Accuracy: 62.55 % \n",
      "\n",
      "Train Epoch: 7 [0/50000 (0%)]\tTrain Loss: 0.889204\n",
      "Train Epoch: 7 [12800/50000 (26%)]\tTrain Loss: 0.981759\n",
      "Train Epoch: 7 [25600/50000 (51%)]\tTrain Loss: 1.040764\n",
      "Train Epoch: 7 [38400/50000 (77%)]\tTrain Loss: 1.033071\n",
      "\n",
      "[EPOCH: 7], \tTest Loss: 1.0412, \tTest Accuracy: 63.72 % \n",
      "\n",
      "Train Epoch: 8 [0/50000 (0%)]\tTrain Loss: 0.936496\n",
      "Train Epoch: 8 [12800/50000 (26%)]\tTrain Loss: 0.962437\n",
      "Train Epoch: 8 [25600/50000 (51%)]\tTrain Loss: 0.877034\n",
      "Train Epoch: 8 [38400/50000 (77%)]\tTrain Loss: 0.991438\n",
      "\n",
      "[EPOCH: 8], \tTest Loss: 1.0471, \tTest Accuracy: 63.47 % \n",
      "\n",
      "Train Epoch: 9 [0/50000 (0%)]\tTrain Loss: 0.824842\n",
      "Train Epoch: 9 [12800/50000 (26%)]\tTrain Loss: 0.949452\n",
      "Train Epoch: 9 [25600/50000 (51%)]\tTrain Loss: 0.878785\n",
      "Train Epoch: 9 [38400/50000 (77%)]\tTrain Loss: 0.951103\n",
      "\n",
      "[EPOCH: 9], \tTest Loss: 1.0122, \tTest Accuracy: 64.51 % \n",
      "\n",
      "Train Epoch: 10 [0/50000 (0%)]\tTrain Loss: 0.846720\n",
      "Train Epoch: 10 [12800/50000 (26%)]\tTrain Loss: 0.874795\n",
      "Train Epoch: 10 [25600/50000 (51%)]\tTrain Loss: 0.804867\n",
      "Train Epoch: 10 [38400/50000 (77%)]\tTrain Loss: 0.991794\n",
      "\n",
      "[EPOCH: 10], \tTest Loss: 0.9940, \tTest Accuracy: 65.13 % \n",
      "\n"
     ]
    }
   ],
   "source": [
    "''' 11. CNN 학습을 실행하며 Train, Test set의 Loss 및 Test set Accuracy 확인하기 '''\n",
    "for epoch in range(1, TRN_EPOCHS + 1):\n",
    "    train(model, train_loader, optimizer, log_interval = 100)   # 정의한 train함수 실행\n",
    "    test_loss, test_accuracy = evaluate(model, test_loader)     # 각 Epoch별로 출력되는 Loss값과 Accuracy 값 계산\n",
    "    print(\"\\n[EPOCH: {}], \\tTest Loss: {:.4f}, \\tTest Accuracy: {:.2f} % \\n\".format(\n",
    "        epoch, test_loss, test_accuracy))"
   ]
  },
  {
   "cell_type": "markdown",
   "id": "c13f13bd",
   "metadata": {},
   "source": [
    "\n",
    "# 4주차 과제\n",
    "\n",
    "<span style='color:navy; font-size:18px'>  **1. [CNN 모델 설계](#CNN-모델-Class-(1))에서 각 Layer를 거친 후의 shape 주석 달아보고 코드 속 `#값_채우기`에 들어갈 값 채워보기** </span>\n",
    "> Convolution의 output 크기에 대한 실습 코드입니다. 입력된 값은 위에 설계된 conv1의 설정 값들을 사용한 것으로 size를 계산할 때 활용해보세요.<br>\n",
    "> `#값_채우기`에 들어갈 값은 모두 동일한 값이며 마지막 Pooling Layer를 거친 Feature의 [Channel_수 * W * H]입니다.\n"
   ]
  },
  {
   "cell_type": "code",
   "execution_count": null,
   "id": "aa756614",
   "metadata": {},
   "outputs": [],
   "source": [
    "''' 1. Convolution Layer 설정 '''\n",
    "# nn.Conv2d(입력채널수, 출력채널수, 커널(필터)사이즈, 등등)\n",
    "conv = nn.Conv2d(3, 8, 3, padding = 1) \n",
    "print(conv)\n",
    "\n",
    "''' 2. Input Size 설정 및 출력 '''\n",
    "# 입력값의 Size와 동일한 텐서 설정 : torch.Tensor(batch_size, 채널, W, H)\n",
    "conv_inputs = torch.Tensor(1, 3, 32, 32)\n",
    "print(f' Input shape : {conv_inputs.shape}')\n",
    "\n",
    "''' 3. Output Size 출력 '''\n",
    "conv_out = conv(conv_inputs)\n",
    "print(f'Output shape : {conv_out.shape}')"
   ]
  },
  {
   "cell_type": "markdown",
   "id": "8af16785",
   "metadata": {},
   "source": [
    "> Pooling의 output 크기에 대한 실습 코드입니다. 입력된 값은 pool의 설정 값들을 사용한 것으로 size를 계산할 때 활용해보세요.\n"
   ]
  },
  {
   "cell_type": "code",
   "execution_count": null,
   "id": "8e0bc785",
   "metadata": {},
   "outputs": [],
   "source": [
    "''' 1. Pooling Layer 설정 '''\n",
    "# nn.MaxPool2d(커널(필터)사이즈, 스트라이드, 등등)\n",
    "pool2 = nn.MaxPool2d(kernel_size = 2, stride = 2)\n",
    "print(pool2)\n",
    "\n",
    "''' 2. Input Size 설정 및 출력 '''\n",
    "# 입력값의 Size와 동일한 텐서 설정: torch.Tensor(batch_size, 채널, W, H)\n",
    "pool2_inputs = torch.Tensor(1, 3, 32, 32)\n",
    "print(f' Input shape : {pool2_inputs.shape}')\n",
    "\n",
    "''' 3. Output Size 출력 '''\n",
    "pool2_out = pool2(pool2_inputs)\n",
    "print(f'Output shape : {pool2_out.shape}')"
   ]
  },
  {
   "cell_type": "markdown",
   "id": "b62539ba",
   "metadata": {},
   "source": [
    "<span style='color:navy; font-size:18px'>  **2. Pooling 방법 변경 및 Data Augmentation 기법 적용해보며 모델 성능 비교해보기** </span>\n",
    "> Pooling : https://pytorch.org/docs/stable/nn.html#pooling-layers    (*2d 함수 사용)\n",
    "\n",
    "> Data Augmentation : https://pytorch.org/vision/stable/transforms.html#geometry"
   ]
  },
  {
   "cell_type": "code",
   "execution_count": null,
   "id": "fd2b61ed",
   "metadata": {},
   "outputs": [],
   "source": []
  }
 ],
 "metadata": {
  "kernelspec": {
   "display_name": "Python 3 (ipykernel)",
   "language": "python",
   "name": "python3"
  },
  "language_info": {
   "codemirror_mode": {
    "name": "ipython",
    "version": 3
   },
   "file_extension": ".py",
   "mimetype": "text/x-python",
   "name": "python",
   "nbconvert_exporter": "python",
   "pygments_lexer": "ipython3",
   "version": "3.9.13"
  }
 },
 "nbformat": 4,
 "nbformat_minor": 5
}
