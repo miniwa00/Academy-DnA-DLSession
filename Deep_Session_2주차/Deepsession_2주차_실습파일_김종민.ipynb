{
 "cells": [
  {
   "cell_type": "code",
   "execution_count": 1,
   "metadata": {
    "id": "gdZyEE8-jkaL"
   },
   "outputs": [
    {
     "name": "stdout",
     "output_type": "stream",
     "text": [
      "Requirement already satisfied: torch in c:\\users\\user\\anaconda3\\lib\\site-packages (2.0.0)\n",
      "Requirement already satisfied: filelock in c:\\users\\user\\anaconda3\\lib\\site-packages (from torch) (3.6.0)\n",
      "Requirement already satisfied: typing-extensions in c:\\users\\user\\anaconda3\\lib\\site-packages (from torch) (4.3.0)\n",
      "Requirement already satisfied: sympy in c:\\users\\user\\anaconda3\\lib\\site-packages (from torch) (1.10.1)\n",
      "Requirement already satisfied: networkx in c:\\users\\user\\anaconda3\\lib\\site-packages (from torch) (2.8.4)\n",
      "Requirement already satisfied: jinja2 in c:\\users\\user\\anaconda3\\lib\\site-packages (from torch) (2.11.3)\n",
      "Requirement already satisfied: MarkupSafe>=0.23 in c:\\users\\user\\anaconda3\\lib\\site-packages (from jinja2->torch) (2.0.1)\n",
      "Requirement already satisfied: mpmath>=0.19 in c:\\users\\user\\anaconda3\\lib\\site-packages (from sympy->torch) (1.2.1)\n",
      "Requirement already satisfied: torchvision in c:\\users\\user\\anaconda3\\lib\\site-packages (0.15.0)\n",
      "Requirement already satisfied: numpy in c:\\users\\user\\anaconda3\\lib\\site-packages (from torchvision) (1.21.5)\n",
      "Requirement already satisfied: requests in c:\\users\\user\\anaconda3\\lib\\site-packages (from torchvision) (2.28.1)\n",
      "Requirement already satisfied: torch==2.0.0 in c:\\users\\user\\anaconda3\\lib\\site-packages (from torchvision) (2.0.0)\n",
      "Requirement already satisfied: pillow!=8.3.*,>=5.3.0 in c:\\users\\user\\anaconda3\\lib\\site-packages (from torchvision) (9.2.0)\n",
      "Requirement already satisfied: filelock in c:\\users\\user\\anaconda3\\lib\\site-packages (from torch==2.0.0->torchvision) (3.6.0)\n",
      "Requirement already satisfied: typing-extensions in c:\\users\\user\\anaconda3\\lib\\site-packages (from torch==2.0.0->torchvision) (4.3.0)\n",
      "Requirement already satisfied: sympy in c:\\users\\user\\anaconda3\\lib\\site-packages (from torch==2.0.0->torchvision) (1.10.1)\n",
      "Requirement already satisfied: networkx in c:\\users\\user\\anaconda3\\lib\\site-packages (from torch==2.0.0->torchvision) (2.8.4)\n",
      "Requirement already satisfied: jinja2 in c:\\users\\user\\anaconda3\\lib\\site-packages (from torch==2.0.0->torchvision) (2.11.3)\n",
      "Requirement already satisfied: charset-normalizer<3,>=2 in c:\\users\\user\\anaconda3\\lib\\site-packages (from requests->torchvision) (2.0.4)\n",
      "Requirement already satisfied: urllib3<1.27,>=1.21.1 in c:\\users\\user\\anaconda3\\lib\\site-packages (from requests->torchvision) (1.26.11)\n",
      "Requirement already satisfied: certifi>=2017.4.17 in c:\\users\\user\\anaconda3\\lib\\site-packages (from requests->torchvision) (2022.9.14)\n",
      "Requirement already satisfied: idna<4,>=2.5 in c:\\users\\user\\anaconda3\\lib\\site-packages (from requests->torchvision) (3.3)\n",
      "Requirement already satisfied: MarkupSafe>=0.23 in c:\\users\\user\\anaconda3\\lib\\site-packages (from jinja2->torch==2.0.0->torchvision) (2.0.1)\n",
      "Requirement already satisfied: mpmath>=0.19 in c:\\users\\user\\anaconda3\\lib\\site-packages (from sympy->torch==2.0.0->torchvision) (1.2.1)\n"
     ]
    }
   ],
   "source": [
    "!pip install torch\n",
    "!pip install torchvision"
   ]
  },
  {
   "cell_type": "code",
   "execution_count": 2,
   "metadata": {
    "id": "wtNjUWyOjkaV"
   },
   "outputs": [],
   "source": [
    "import numpy as np\n",
    "import matplotlib.pyplot as plt\n",
    "import torch\n",
    "import torch.nn as nn\n",
    "import torch.nn.functional as F\n",
    "from torchvision import transforms, datasets\n",
    "from math import exp"
   ]
  },
  {
   "cell_type": "markdown",
   "metadata": {
    "id": "lRfWnqz8jkaX"
   },
   "source": [
    "## Build Back  Propagation with numpy"
   ]
  },
  {
   "cell_type": "markdown",
   "metadata": {
    "id": "4ksE2tdkGI4b"
   },
   "source": [
    "* 0과 1의 정답 레이블을 가진 데이터 셋에서 0과 1로 분류를 하고 싶어요\n",
    "* dataset 은 2차원 벡터로 이루어져 있다.\n",
    "* 정답 레이블은 각각 0과 1로 되어 있다.\n",
    "* 레이어를 직접 만들어서 코드 구현을 한다."
   ]
  },
  {
   "cell_type": "code",
   "execution_count": 13,
   "metadata": {
    "id": "uJrDBSowKLKJ"
   },
   "outputs": [],
   "source": [
    "n_name = ['activate_function','forward_propagate','transfer','update_weights','backward_propagate_error','transfer_derivative']\n",
    "# 활성화 함수, 순전파, 비선형 결합, 가중치 업데이트, 오차 역전파 에러 계산, 비선형 함수 미분을 의미한다."
   ]
  },
  {
   "cell_type": "code",
   "execution_count": 65,
   "metadata": {
    "colab": {
     "base_uri": "https://localhost:8080/"
    },
    "executionInfo": {
     "elapsed": 53,
     "status": "ok",
     "timestamp": 1647498327622,
     "user": {
      "displayName": "나ᄋ8ᄋ",
      "photoUrl": "https://lh3.googleusercontent.com/a/default-user=s64",
      "userId": "05265208169833205553"
     },
     "user_tz": -540
    },
    "id": "E6JdjAXVjkab",
    "outputId": "8e9fc342-0691-469f-a6b6-f755d5ac5b3d"
   },
   "outputs": [
    {
     "name": "stdout",
     "output_type": "stream",
     "text": [
      "hidden :  [{'weights': [0.8444218515250481, 0.7579544029403025, 0.420571580830845]}]\n",
      "output :  [{'weights': [0.25891675029296335, 0.5112747213686085]}, {'weights': [0.4049341374504143, 0.7837985890347726]}]\n"
     ]
    },
    {
     "data": {
      "text/plain": [
       "[[{'weights': [0.8444218515250481, 0.7579544029403025, 0.420571580830845]}],\n",
       " [{'weights': [0.25891675029296335, 0.5112747213686085]},\n",
       "  {'weights': [0.4049341374504143, 0.7837985890347726]}]]"
      ]
     },
     "execution_count": 65,
     "metadata": {},
     "output_type": "execute_result"
    }
   ],
   "source": [
    "from random import seed\n",
    "from random import random\n",
    "\n",
    "def initialize_network(n_inputs, n_hidden, n_outputs): #입력층의 노드수/은닉층의 노드수/출력층의 노드수\n",
    "    network = list()\n",
    "    hidden_layer = [{'weights':[random() for i in range(n_inputs + 1)]} for i in range(n_hidden)] # 가중치는 초기화 하는 기법이 따로 존재 +1 은 bias 표현\n",
    "    print('hidden : ' , hidden_layer)\n",
    "    #n input 만큼 가중치 생성 및 n hidden 만큼 층 생성\n",
    "    network.append(hidden_layer)\n",
    "    output_layer = [{'weights':[random() for i in range(n_hidden + 1)]} for i in range(n_outputs)]\n",
    "    print('output : ', output_layer)\n",
    "    network.append(output_layer)\n",
    "    return network\n",
    " \n",
    "seed(0) # 값 고정\n",
    "network = initialize_network(2, 1, 2)\n",
    "network"
   ]
  },
  {
   "cell_type": "code",
   "execution_count": null,
   "metadata": {},
   "outputs": [],
   "source": [
    "[\n",
    "    [\n",
    "        {'weights': [0.14116593371706354, 0.7621847097876072, 0.7474005213392795]}\n",
    "    ],\n",
    "    \n",
    "    [\n",
    "        {'weights': [0.6291943546166798, 0.1426222278501701]},\n",
    "        {'weights': [0.11966390537211424, 0.45775547626312885]}\n",
    "    ]\n",
    "]"
   ]
  },
  {
   "cell_type": "code",
   "execution_count": 4,
   "metadata": {
    "id": "-bZgZQYgjkag"
   },
   "outputs": [],
   "source": [
    "def forward_propagate(weights, inputs):\n",
    "    a_1 = weights[-1] # w 끝값. bias\n",
    "    for i in range(len(weights)-1):\n",
    "        a_1 += weights[i] * inputs[i] # 가중합 계산\n",
    "    return a_1 # a_1은 a 함수의 결과값"
   ]
  },
  {
   "cell_type": "code",
   "execution_count": 5,
   "metadata": {},
   "outputs": [],
   "source": [
    "def activate_function(a_1):\n",
    "    return 1.0 / (1.0 + exp(-a_1))"
   ]
  },
  {
   "cell_type": "code",
   "execution_count": 6,
   "metadata": {
    "id": "hWFe67qfjkai"
   },
   "outputs": [],
   "source": [
    "def transfer(network, row): \n",
    "    inputs = row \n",
    "    for layer in network:\n",
    "        new_inputs = [] \n",
    "        for neuron in layer:\n",
    "            a_1 = forward_propagate(neuron['weights'], inputs) \n",
    "            neuron['output'] = activate_function(a_1) \n",
    "            new_inputs.append(neuron['output']) \n",
    "        inputs = new_inputs\n",
    " \n",
    "    return inputs"
   ]
  },
  {
   "cell_type": "code",
   "execution_count": 7,
   "metadata": {},
   "outputs": [],
   "source": [
    "def transfer_derivative(output):\n",
    "    return output * (1.0 - output)"
   ]
  },
  {
   "cell_type": "code",
   "execution_count": 77,
   "metadata": {
    "cellView": "code",
    "id": "TFwxvd8xjkao"
   },
   "outputs": [],
   "source": [
    "def backward_propagate_error(network, expected):\n",
    "    for i in reversed(range(len(network))):\n",
    "        layer = network[i]\n",
    "        errors = list()\n",
    "        \n",
    "        if i == len(network) -1 :                                 # 현재 층이 출력층인 경우, -1 하는 이유는 리스트의 마지막 요소를 인덱싱하기 위해\n",
    "            for j in range(len(layer)):                           # 1부터 출력층의 노드 개수까지\n",
    "                neuron = layer[j] \n",
    "                errors.append(2*(neuron['output'] - expected[j])) # 제곱 오차 함수를 사용해 오차를 계산한 결과를 미분한 것을 error에 추가해준다.\n",
    "        else:                                                     # 그렇지 않은 경우\n",
    "            for j in range(len(layer)): \n",
    "                error = 0.0\n",
    "                for neuron in network[i + 1]:                     \n",
    "                    error += (neuron['weights'][j] * neuron['delta'])  # neuron['delta'] -> 개별 뉴런의 오차 항목 // 체인룰 적용\n",
    "                errors.append(error)\n",
    "        for j in range(len(layer)): \n",
    "            neuron = layer[j] \n",
    "            neuron['delta'] = errors[j] * transfer_derivative(neuron['output'])"
   ]
  },
  {
   "cell_type": "code",
   "execution_count": 78,
   "metadata": {},
   "outputs": [],
   "source": [
    "def update_weights(network, row, l_rate):\n",
    "    for layer in range(len(network)):\n",
    "        inputs = row[:-1]\n",
    "        if layer != 0:\n",
    "            inputs = [neuron['output'] for neuron in network[layer - 1]]\n",
    "        for neuron in network[layer]:\n",
    "            for j in range(len(inputs)):\n",
    "                neuron['weights'][j] -= l_rate * neuron['delta'] * inputs[j] # weight 를 업데이트 할 때 l_rate 만큼 곱해준다. C = C -lr * aC/aw * input\n",
    "            neuron['weights'][-1] -= l_rate * neuron['delta']\n"
   ]
  },
  {
   "cell_type": "code",
   "execution_count": 79,
   "metadata": {
    "colab": {
     "base_uri": "https://localhost:8080/"
    },
    "executionInfo": {
     "elapsed": 40,
     "status": "ok",
     "timestamp": 1647498327628,
     "user": {
      "displayName": "나ᄋ8ᄋ",
      "photoUrl": "https://lh3.googleusercontent.com/a/default-user=s64",
      "userId": "05265208169833205553"
     },
     "user_tz": -540
    },
    "id": "hm2ND973jkat",
    "outputId": "059d099e-5a1f-4bf0-a0c0-8bf54017909e"
   },
   "outputs": [
    {
     "name": "stdout",
     "output_type": "stream",
     "text": [
      "hidden :  [{'weights': [0.13436424411240122, 0.8474337369372327, 0.763774618976614]}, {'weights': [0.2550690257394217, 0.49543508709194095, 0.4494910647887381]}]\n",
      "output :  [{'weights': [0.651592972722763, 0.7887233511355132, 0.0938595867742349]}, {'weights': [0.02834747652200631, 0.8357651039198697, 0.43276706790505337]}]\n",
      ">epoch=0, lrate=0.400, error=6.128\n",
      ">epoch=1, lrate=0.400, error=5.333\n",
      ">epoch=2, lrate=0.400, error=5.001\n",
      ">epoch=3, lrate=0.400, error=4.400\n",
      ">epoch=4, lrate=0.400, error=3.882\n",
      ">epoch=5, lrate=0.400, error=3.376\n",
      ">epoch=6, lrate=0.400, error=2.934\n",
      ">epoch=7, lrate=0.400, error=2.553\n",
      ">epoch=8, lrate=0.400, error=2.228\n",
      ">epoch=9, lrate=0.400, error=1.952\n",
      ">epoch=10, lrate=0.400, error=1.717\n",
      ">epoch=11, lrate=0.400, error=1.518\n",
      ">epoch=12, lrate=0.400, error=1.348\n",
      ">epoch=13, lrate=0.400, error=1.204\n",
      ">epoch=14, lrate=0.400, error=1.081\n",
      ">epoch=15, lrate=0.400, error=0.977\n",
      ">epoch=16, lrate=0.400, error=0.887\n",
      ">epoch=17, lrate=0.400, error=0.811\n",
      ">epoch=18, lrate=0.400, error=0.744\n",
      ">epoch=19, lrate=0.400, error=0.687\n"
     ]
    }
   ],
   "source": [
    "def train_network(network, train, l_rate, n_epoch, n_outputs):\n",
    "    for epoch in range(n_epoch):\n",
    "        sum_error = 0\n",
    "        for row in train:\n",
    "            outputs = transfer(network, row)\n",
    "            expected = [0 for i in range(n_outputs)] # 초기 expected 값. update 가 됨\n",
    "            expected[row[-1]] = 1\n",
    "            sum_error += sum([(expected[i]-outputs[i])**2 for i in range(len(expected))])\n",
    "            backward_propagate_error(network, expected)\n",
    "            update_weights(network, row, l_rate)\n",
    "            \n",
    "        print('>epoch=%d, lrate=%.3f, error=%.3f' % (epoch, l_rate, sum_error)) # 이부분 생략!\n",
    "### 밑 부분 생략 ###\n",
    "seed(1)\n",
    "dataset = [[2.7810836,2.550537003,0],\n",
    "    [1.465489372,2.362125076,0],\n",
    "    [3.396561688,4.400293529,0],\n",
    "    [1.38807019,1.850220317,0],\n",
    "    [3.06407232,3.005305973,0],\n",
    "    [7.627531214,2.759262235,1],\n",
    "    [5.332441248,2.088626775,1],\n",
    "    [6.922596716,1.77106367,1],\n",
    "    [8.675418651,-0.242068655,1],\n",
    "    [7.673756466,3.508563011,1]]\n",
    "n_inputs = len(dataset[0]) - 1 # dataset에는 정답 label 까지 있기 때문에 길이에 -1을 한다.\n",
    "n_outputs = len(set([row[-1] for row in dataset])) # 정답 label의 종류는 몇 개인가?\n",
    "network = initialize_network(n_inputs, 2, n_outputs)\n",
    "train_network(network, dataset, 0.4, 20, n_outputs)"
   ]
  },
  {
   "cell_type": "code",
   "execution_count": 22,
   "metadata": {
    "colab": {
     "base_uri": "https://localhost:8080/"
    },
    "executionInfo": {
     "elapsed": 41,
     "status": "ok",
     "timestamp": 1647498327633,
     "user": {
      "displayName": "나ᄋ8ᄋ",
      "photoUrl": "https://lh3.googleusercontent.com/a/default-user=s64",
      "userId": "05265208169833205553"
     },
     "user_tz": -540
    },
    "id": "zrDkkMnUFiPD",
    "outputId": "e4e10d8d-0442-4861-a005-52585883290b"
   },
   "outputs": [
    {
     "name": "stdout",
     "output_type": "stream",
     "text": [
      "2\n"
     ]
    },
    {
     "data": {
      "text/plain": [
       "[[{'weights': [-1.7162510676007774, 2.2017368671278477, 1.2236115716194655],\n",
       "   'output': 0.0174917162472531,\n",
       "   'delta': 0.006688936418205769},\n",
       "  {'weights': [-0.4276550412463933, 0.195595536359702, 0.33038057152505096],\n",
       "   'output': 0.10021812672613511,\n",
       "   'delta': 0.0024335479554760007}],\n",
       " [{'weights': [3.079101186041918, 0.6653253481230443, -1.6094439234205478],\n",
       "   'output': 0.18758158041770231,\n",
       "   'delta': 0.05717288901627574},\n",
       "  {'weights': [-3.2651365888431174, 0.17393950180259954, 1.4382688763664562],\n",
       "   'output': 0.797736837670095,\n",
       "   'delta': -0.06527144524433287}]]"
      ]
     },
     "execution_count": 22,
     "metadata": {},
     "output_type": "execute_result"
    }
   ],
   "source": [
    "print(n_inputs);network"
   ]
  },
  {
   "cell_type": "markdown",
   "metadata": {
    "id": "ET5Xckc3jkaw"
   },
   "source": [
    "## 데이터 불러오기"
   ]
  },
  {
   "cell_type": "code",
   "execution_count": 23,
   "metadata": {
    "id": "zYIYCKpjlXId"
   },
   "outputs": [
    {
     "name": "stdout",
     "output_type": "stream",
     "text": [
      "cuda\n"
     ]
    }
   ],
   "source": [
    "if torch.cuda.is_available():\n",
    "  DEVICE = torch.device('cuda')\n",
    "else:\n",
    "  DEVICE = torch.device('cpu')\n",
    "print(DEVICE)"
   ]
  },
  {
   "cell_type": "code",
   "execution_count": 87,
   "metadata": {
    "id": "rYqH-1TNjkay"
   },
   "outputs": [],
   "source": [
    "BATCH_SIZE = 128\n",
    "EPOCHS = 20"
   ]
  },
  {
   "cell_type": "code",
   "execution_count": 88,
   "metadata": {
    "colab": {
     "base_uri": "https://localhost:8080/",
     "height": 444,
     "referenced_widgets": [
      "4011ae99fb20417bbb7c2d56fb01b071",
      "7670661fe1414b55ad0f4ec57b333bd4",
      "0891b0ec49e643bcba9d78a77d677a35",
      "dec8616d72a04e9c9c261b77a8c4f1dd",
      "dd47924245404150804deb7cdfbefe2a",
      "58825749bf87447c9fa94b968c474630",
      "b00a5879a12b4ffa8b9cf31ee4962de5",
      "04416704ce1d4adeb5e01f22d49c06ac",
      "3b9eb4a5e8ef4c17aad921a8ce80c487",
      "f19bbd0e0ff84bbfbd60491ef64d4068",
      "f3bccf9ac4b34f32b51a31507bb4494c",
      "f3761e2c677e47d0bff24a5d8e5bc73f",
      "e07f4fe3c40340ad8e0f662450d30231",
      "de7b14c097b5462cb5052aae1f0fc3b3",
      "f86d6ab8dfa943379806fe2fbfdbf5ce",
      "6b7b392accf74a38962a748c5d8b784a",
      "31520cce7a7a4106ae8854fc58b78852",
      "42466c798b6147e79b72f0ebbf829863",
      "3baa1a3922b74207856b256ad3e4a052",
      "9290b8d1c78347e59ffd053414c15b7d",
      "58b218f2ceb34cf3a3e30e29561f85f7",
      "ecef5fc11b6f461aa6a3126bf6cf1145",
      "b8944d7a4be84e6e97c3db865272adfd",
      "4f4850d628fb46c9bcd8ff1ac7c5aeed",
      "0e701de608464b67bdf6e183057e3599",
      "bea684b8ef0d4475bcc8f8cd2c7953e7",
      "f584a1fefb5143e48487802e466d96f5",
      "2f72793f2f594e1eb2c4b5c941ffd3ff",
      "4b6ca901ec2b4e43b087aa8d76f79de8",
      "21220745df7a4c8892426bdd6fb38b5c",
      "34a0563ac67a47a4952c947427e2d776",
      "a479160014f34c71a6a3e2a64e239539",
      "4ab5b84bdc32430c82928ca558a4c63a",
      "3171b61d4821460c9b4bae8133b68983",
      "9c641912c4e94dca8065a5a919e5263a",
      "06d9eb60913342f0bbbec140bdf7c4af",
      "a9fff2bbb8a54aceb3fa1e9da3cb9c67",
      "f04ba5086c81450d8f307f3af469c558",
      "393cb9f08c9344d5b64f5b25c0398a8b",
      "e6b3bbd64df74d0490dd00a6308b1416",
      "16415c17813d43ca8a5510d1a67611fb",
      "2eecc80d843140d8a89ed5da27bd5cbf",
      "093d5930cfcd4e9881f2eb95c1209349",
      "5db577a583bf4aab8e2511bbbbc0a659"
     ]
    },
    "executionInfo": {
     "elapsed": 1375,
     "status": "ok",
     "timestamp": 1647498329364,
     "user": {
      "displayName": "나ᄋ8ᄋ",
      "photoUrl": "https://lh3.googleusercontent.com/a/default-user=s64",
      "userId": "05265208169833205553"
     },
     "user_tz": -540
    },
    "id": "LnHZOocMjkaz",
    "outputId": "576b2420-be45-4229-cda4-ace5a8543a41"
   },
   "outputs": [],
   "source": [
    "train_dataset = datasets.MNIST(root = \"../data/MNIST\", # 데이터 지정 장소\n",
    "                              train = True,\n",
    "                              download = True,\n",
    "                              transform  = transforms.ToTensor() # 데이터의 형태를 텐서로 변환!\n",
    "                               # 기존 0~255의 Sclar 를 0~1로 정규화\n",
    "                              )\n",
    "test_dataset = datasets.MNIST(root = \"../data/MNIST\",\n",
    "                              train = False,\n",
    "                              transform = transforms.ToTensor(),\n",
    "                              )\n",
    "train_loader = torch.utils.data.DataLoader(dataset = train_dataset,\n",
    "                                          batch_size = BATCH_SIZE,\n",
    "                                          shuffle = True)\n",
    "test_loader = torch.utils.data.DataLoader(dataset = test_dataset,\n",
    "                                         batch_size = BATCH_SIZE,\n",
    "                                         shuffle = False) # 데이터의 순서를 섞기 LABEL 의 순서 정보 무력화"
   ]
  },
  {
   "cell_type": "code",
   "execution_count": 89,
   "metadata": {
    "colab": {
     "base_uri": "https://localhost:8080/"
    },
    "executionInfo": {
     "elapsed": 19,
     "status": "ok",
     "timestamp": 1647498329366,
     "user": {
      "displayName": "나ᄋ8ᄋ",
      "photoUrl": "https://lh3.googleusercontent.com/a/default-user=s64",
      "userId": "05265208169833205553"
     },
     "user_tz": -540
    },
    "id": "KVQfBm9Ujka1",
    "outputId": "f2ab490a-d44d-49c1-af10-f3f776dee5fd"
   },
   "outputs": [
    {
     "name": "stdout",
     "output_type": "stream",
     "text": [
      "torch.Size([128, 1, 28, 28]) torch.FloatTensor\n",
      "torch.Size([128]) torch.LongTensor\n"
     ]
    }
   ],
   "source": [
    "for (X_train, y_train) in train_loader:\n",
    "    print(X_train.size(), X_train.type())\n",
    "    print(y_train.size(),y_train.type())\n",
    "    break\n",
    "# 여기서 32, 1, 28, 28 의 의미는?\n",
    "## 32: BATCH_SIZE // 1: 컬러 채널 사이즈 // 28*28 사이즈\n",
    "### 일반적인 RGB는 3개의 채널 사이즈를 가지고 있다. Then, what is 2 channel size???"
   ]
  },
  {
   "cell_type": "markdown",
   "metadata": {
    "id": "qgHM8sPNjka3"
   },
   "source": [
    "## MLP construct"
   ]
  },
  {
   "cell_type": "markdown",
   "metadata": {
    "id": "S9Hti2n13Zq-"
   },
   "source": [
    "$y = xA^T + bias$ <- nn.Linear 함수"
   ]
  },
  {
   "cell_type": "code",
   "execution_count": 90,
   "metadata": {
    "id": "lIBONDAojka4"
   },
   "outputs": [],
   "source": [
    "class Net(nn.Module):\n",
    "    def __init__(self):# 인스턴스 생성 시 성질 정의\n",
    "        super(Net,self).__init__() # Net 내의 메소드 상속받아 이용 가능\n",
    "        self.fc1 = nn.Linear(28*28,512) # fc1 이라는 객체가 어떤 값인지 반환\n",
    "        self.fc2 = nn.Linear(512, 256) # nn.Linear ->  선형 변환을 시켜주는 함수.\n",
    "        self.fc3 = nn.Linear(256,10)\n",
    "    def forward(self,x): # train 안의 forward 를 override  \n",
    "        x = x.view(-1,28*28) # x Vector 의 size 를 [1,756] 의 열벡터로 변환\n",
    "        x = self.fc1(x) # 1X 756 product 756 X 512 -> 1 X 512 에서 가중치 정보를 담는 열벡터 생성 wx + b 의 값\n",
    "        x = F.sigmoid(x) # sigmoid 함수 통과 (sigma(wx+b))\n",
    "        x = self.fc2(x) \n",
    "        x = F.sigmoid(x)\n",
    "        x = self.fc3(x)\n",
    "        x = F.log_softmax(x , dim=1) # dim 1 이라는 것은 열에 대해서 나열한다는 것. log_softmax 로 묶음!\n",
    "        return x"
   ]
  },
  {
   "cell_type": "markdown",
   "metadata": {
    "id": "uJi_z4hsjka6"
   },
   "source": [
    "### optimizer"
   ]
  },
  {
   "cell_type": "code",
   "execution_count": 91,
   "metadata": {
    "colab": {
     "base_uri": "https://localhost:8080/"
    },
    "executionInfo": {
     "elapsed": 9170,
     "status": "ok",
     "timestamp": 1647498338523,
     "user": {
      "displayName": "나ᄋ8ᄋ",
      "photoUrl": "https://lh3.googleusercontent.com/a/default-user=s64",
      "userId": "05265208169833205553"
     },
     "user_tz": -540
    },
    "id": "oUb8nCDwjka7",
    "outputId": "c936135a-dec5-4652-870a-539c44672d60"
   },
   "outputs": [
    {
     "name": "stdout",
     "output_type": "stream",
     "text": [
      "Net(\n",
      "  (fc1): Linear(in_features=784, out_features=512, bias=True)\n",
      "  (fc2): Linear(in_features=512, out_features=256, bias=True)\n",
      "  (fc3): Linear(in_features=256, out_features=10, bias=True)\n",
      ")\n"
     ]
    }
   ],
   "source": [
    "model = Net().to(DEVICE)\n",
    "optimizer = torch.optim.SGD(model.parameters(), lr = 0.5) #optim 객체 생성\n",
    "# 경사 하강법 적용을 어떤 식으로 할 것인가??\n",
    "criterion = nn.CrossEntropyLoss()\n",
    "print(model)"
   ]
  },
  {
   "cell_type": "markdown",
   "metadata": {
    "id": "wyTDCxTCjka9"
   },
   "source": [
    "### 성능 평가를 위한 함수 정의"
   ]
  },
  {
   "cell_type": "code",
   "execution_count": 92,
   "metadata": {
    "id": "ZHyUEcf3jka_"
   },
   "outputs": [],
   "source": [
    "def train(model, train_loader, optimizer , log_interval):\n",
    "    model.train() # nn.Module 에서 상속받은 train 이라는 메소드를 사용. 이 train 은 forward 를 진행하게 되는데, 그 forward 과정을 명시적으로 우리가 지정함\n",
    "    for batch_idx,(image,label) in enumerate(train_loader):\n",
    "        image = image.to(DEVICE)\n",
    "        label = label.to(DEVICE)\n",
    "        optimizer.zero_grad() # 기울기 초기화 \n",
    "        output = model(image) # model 에 image 를 넣어 MLP 를 거치게 함\n",
    "        loss = criterion(output,label) # 우리의 비용함수 정의\n",
    "        loss.backward()  # Backpropagation 을 통해 계산된 Gradient 값을 할당\n",
    "        optimizer.step() # 한 스텝씩 움직인다!\n",
    "        if batch_idx % log_interval == 0: # 나머지가 0 이면 중간 값 출력\n",
    "            print(\"Train Epoch: {} [{}/ {}({:.0f}%)]\\tTrain Loss:{:6f}\".format(Epoch,batch_idx*len(image),\n",
    "                                                                              len(train_loader.dataset),\n",
    "                                                                              100.*batch_idx/len(train_loader),\n",
    "                                                                              loss.item()))"
   ]
  },
  {
   "cell_type": "code",
   "execution_count": 93,
   "metadata": {
    "colab": {
     "base_uri": "https://localhost:8080/"
    },
    "executionInfo": {
     "elapsed": 49,
     "status": "ok",
     "timestamp": 1647498338525,
     "user": {
      "displayName": "나ᄋ8ᄋ",
      "photoUrl": "https://lh3.googleusercontent.com/a/default-user=s64",
      "userId": "05265208169833205553"
     },
     "user_tz": -540
    },
    "id": "LuoZWYisjkbA",
    "outputId": "19b28ddd-7cd0-4209-adee-5d1dc415c219"
   },
   "outputs": [
    {
     "name": "stdout",
     "output_type": "stream",
     "text": [
      "0 (tensor([[[[0., 0., 0.,  ..., 0., 0., 0.],\n",
      "          [0., 0., 0.,  ..., 0., 0., 0.],\n",
      "          [0., 0., 0.,  ..., 0., 0., 0.],\n",
      "          ...,\n",
      "          [0., 0., 0.,  ..., 0., 0., 0.],\n",
      "          [0., 0., 0.,  ..., 0., 0., 0.],\n",
      "          [0., 0., 0.,  ..., 0., 0., 0.]]],\n",
      "\n",
      "\n",
      "        [[[0., 0., 0.,  ..., 0., 0., 0.],\n",
      "          [0., 0., 0.,  ..., 0., 0., 0.],\n",
      "          [0., 0., 0.,  ..., 0., 0., 0.],\n",
      "          ...,\n",
      "          [0., 0., 0.,  ..., 0., 0., 0.],\n",
      "          [0., 0., 0.,  ..., 0., 0., 0.],\n",
      "          [0., 0., 0.,  ..., 0., 0., 0.]]],\n",
      "\n",
      "\n",
      "        [[[0., 0., 0.,  ..., 0., 0., 0.],\n",
      "          [0., 0., 0.,  ..., 0., 0., 0.],\n",
      "          [0., 0., 0.,  ..., 0., 0., 0.],\n",
      "          ...,\n",
      "          [0., 0., 0.,  ..., 0., 0., 0.],\n",
      "          [0., 0., 0.,  ..., 0., 0., 0.],\n",
      "          [0., 0., 0.,  ..., 0., 0., 0.]]],\n",
      "\n",
      "\n",
      "        ...,\n",
      "\n",
      "\n",
      "        [[[0., 0., 0.,  ..., 0., 0., 0.],\n",
      "          [0., 0., 0.,  ..., 0., 0., 0.],\n",
      "          [0., 0., 0.,  ..., 0., 0., 0.],\n",
      "          ...,\n",
      "          [0., 0., 0.,  ..., 0., 0., 0.],\n",
      "          [0., 0., 0.,  ..., 0., 0., 0.],\n",
      "          [0., 0., 0.,  ..., 0., 0., 0.]]],\n",
      "\n",
      "\n",
      "        [[[0., 0., 0.,  ..., 0., 0., 0.],\n",
      "          [0., 0., 0.,  ..., 0., 0., 0.],\n",
      "          [0., 0., 0.,  ..., 0., 0., 0.],\n",
      "          ...,\n",
      "          [0., 0., 0.,  ..., 0., 0., 0.],\n",
      "          [0., 0., 0.,  ..., 0., 0., 0.],\n",
      "          [0., 0., 0.,  ..., 0., 0., 0.]]],\n",
      "\n",
      "\n",
      "        [[[0., 0., 0.,  ..., 0., 0., 0.],\n",
      "          [0., 0., 0.,  ..., 0., 0., 0.],\n",
      "          [0., 0., 0.,  ..., 0., 0., 0.],\n",
      "          ...,\n",
      "          [0., 0., 0.,  ..., 0., 0., 0.],\n",
      "          [0., 0., 0.,  ..., 0., 0., 0.],\n",
      "          [0., 0., 0.,  ..., 0., 0., 0.]]]]), tensor([2, 0, 5, 6, 8, 1, 0, 5, 6, 7, 6, 8, 2, 5, 7, 4, 6, 2, 5, 4, 0, 0, 8, 2,\n",
      "        0, 4, 0, 7, 7, 7, 3, 8, 8, 1, 9, 8, 0, 6, 8, 2, 8, 9, 0, 4, 2, 6, 5, 6,\n",
      "        7, 9, 1, 5, 9, 9, 6, 6, 1, 9, 0, 1, 7, 8, 2, 6, 6, 5, 3, 0, 9, 1, 3, 0,\n",
      "        3, 1, 8, 4, 6, 5, 0, 0, 1, 4, 8, 1, 6, 9, 4, 9, 4, 0, 7, 4, 7, 2, 0, 0,\n",
      "        4, 8, 5, 3, 8, 2, 7, 5, 7, 9, 7, 7, 6, 8, 2, 2, 7, 8, 6, 7, 1, 8, 6, 1,\n",
      "        9, 4, 0, 2, 4, 6, 4, 0]))\n"
     ]
    }
   ],
   "source": [
    " for batch_idx,(image,label) in enumerate(train_loader):\n",
    "        print(batch_idx, (image,label))\n",
    "        break\n",
    "# 0번째 배치, 32개의 이미지 데이터 및 라벨들 존재\n",
    "# 32개씩 6만개 train 남는 경우? padding 사용"
   ]
  },
  {
   "cell_type": "code",
   "execution_count": 94,
   "metadata": {
    "id": "cKKVpC_YjkbC"
   },
   "outputs": [],
   "source": [
    "def evaluate(model,test_loader):\n",
    "    model.eval() # or model.train(False)\n",
    "    test_loss = 0\n",
    "    correct = 0\n",
    "    with torch.no_grad(): # 우리가 backward propagation 을 진행하기 때문에 torch 자체적인 gradient tracking 작업하는 것을 끄며 메모리 아낌\n",
    "        for image,label in test_loader:\n",
    "            image = image.to(DEVICE) # 이미지를 GPU 를 통해 계산하도록 조정\n",
    "            label = label.to(DEVICE)\n",
    "            output = model(image) # 모델에서 image 를 판별\n",
    "            test_loss += criterion(output,label).item()\n",
    "            prediction = output.max(1, keepdim = True)[1] # 0번째 인덱스는 type 호출이기에 [1] 입력\n",
    "            correct += prediction.eq(label.view_as(prediction)).sum().item() # dict 형태에서 맞은 값 저장\n",
    "    test_loss /= len(test_loader.dataset)\n",
    "    test_accuracy = 100.*correct / len(test_loader.dataset)\n",
    "    return test_loss,test_accuracy"
   ]
  },
  {
   "cell_type": "markdown",
   "metadata": {
    "id": "WPyem4rjjkbD"
   },
   "source": [
    "### 함수 실행"
   ]
  },
  {
   "cell_type": "code",
   "execution_count": 95,
   "metadata": {
    "colab": {
     "base_uri": "https://localhost:8080/"
    },
    "executionInfo": {
     "elapsed": 66949,
     "status": "ok",
     "timestamp": 1647498413056,
     "user": {
      "displayName": "나ᄋ8ᄋ",
      "photoUrl": "https://lh3.googleusercontent.com/a/default-user=s64",
      "userId": "05265208169833205553"
     },
     "user_tz": -540
    },
    "id": "pK45nKaajkbD",
    "outputId": "c5a01e4b-c44a-4934-d6ee-62d734b35f36",
    "scrolled": false
   },
   "outputs": [
    {
     "name": "stdout",
     "output_type": "stream",
     "text": [
      "Train Epoch: 1 [0/ 60000(0%)]\tTrain Loss:2.345597\n",
      "Train Epoch: 1 [25600/ 60000(43%)]\tTrain Loss:1.659491\n",
      "Train Epoch: 1 [51200/ 60000(85%)]\tTrain Loss:0.699262\n",
      "\n",
      "[EPOCH:1].  \n",
      "Test Loss: 0.0048, \t Test Accuracy: 80.30% \n",
      "\n",
      "Train Epoch: 2 [0/ 60000(0%)]\tTrain Loss:0.565578\n",
      "Train Epoch: 2 [25600/ 60000(43%)]\tTrain Loss:0.399150\n",
      "Train Epoch: 2 [51200/ 60000(85%)]\tTrain Loss:0.391857\n",
      "\n",
      "[EPOCH:2].  \n",
      "Test Loss: 0.0027, \t Test Accuracy: 90.21% \n",
      "\n",
      "Train Epoch: 3 [0/ 60000(0%)]\tTrain Loss:0.356688\n",
      "Train Epoch: 3 [25600/ 60000(43%)]\tTrain Loss:0.437326\n",
      "Train Epoch: 3 [51200/ 60000(85%)]\tTrain Loss:0.258845\n",
      "\n",
      "[EPOCH:3].  \n",
      "Test Loss: 0.0024, \t Test Accuracy: 91.16% \n",
      "\n",
      "Train Epoch: 4 [0/ 60000(0%)]\tTrain Loss:0.297955\n",
      "Train Epoch: 4 [25600/ 60000(43%)]\tTrain Loss:0.225054\n",
      "Train Epoch: 4 [51200/ 60000(85%)]\tTrain Loss:0.266042\n",
      "\n",
      "[EPOCH:4].  \n",
      "Test Loss: 0.0021, \t Test Accuracy: 91.96% \n",
      "\n",
      "Train Epoch: 5 [0/ 60000(0%)]\tTrain Loss:0.279484\n",
      "Train Epoch: 5 [25600/ 60000(43%)]\tTrain Loss:0.202682\n",
      "Train Epoch: 5 [51200/ 60000(85%)]\tTrain Loss:0.248490\n",
      "\n",
      "[EPOCH:5].  \n",
      "Test Loss: 0.0018, \t Test Accuracy: 93.46% \n",
      "\n",
      "Train Epoch: 6 [0/ 60000(0%)]\tTrain Loss:0.239561\n",
      "Train Epoch: 6 [25600/ 60000(43%)]\tTrain Loss:0.508021\n",
      "Train Epoch: 6 [51200/ 60000(85%)]\tTrain Loss:0.183070\n",
      "\n",
      "[EPOCH:6].  \n",
      "Test Loss: 0.0016, \t Test Accuracy: 93.71% \n",
      "\n",
      "Train Epoch: 7 [0/ 60000(0%)]\tTrain Loss:0.173819\n",
      "Train Epoch: 7 [25600/ 60000(43%)]\tTrain Loss:0.190313\n",
      "Train Epoch: 7 [51200/ 60000(85%)]\tTrain Loss:0.216855\n",
      "\n",
      "[EPOCH:7].  \n",
      "Test Loss: 0.0015, \t Test Accuracy: 94.27% \n",
      "\n",
      "Train Epoch: 8 [0/ 60000(0%)]\tTrain Loss:0.165937\n",
      "Train Epoch: 8 [25600/ 60000(43%)]\tTrain Loss:0.148805\n",
      "Train Epoch: 8 [51200/ 60000(85%)]\tTrain Loss:0.173753\n",
      "\n",
      "[EPOCH:8].  \n",
      "Test Loss: 0.0014, \t Test Accuracy: 94.73% \n",
      "\n",
      "Train Epoch: 9 [0/ 60000(0%)]\tTrain Loss:0.121962\n",
      "Train Epoch: 9 [25600/ 60000(43%)]\tTrain Loss:0.134253\n",
      "Train Epoch: 9 [51200/ 60000(85%)]\tTrain Loss:0.175919\n",
      "\n",
      "[EPOCH:9].  \n",
      "Test Loss: 0.0013, \t Test Accuracy: 95.15% \n",
      "\n",
      "Train Epoch: 10 [0/ 60000(0%)]\tTrain Loss:0.155171\n",
      "Train Epoch: 10 [25600/ 60000(43%)]\tTrain Loss:0.190981\n",
      "Train Epoch: 10 [51200/ 60000(85%)]\tTrain Loss:0.156451\n",
      "\n",
      "[EPOCH:10].  \n",
      "Test Loss: 0.0012, \t Test Accuracy: 95.50% \n",
      "\n",
      "Train Epoch: 11 [0/ 60000(0%)]\tTrain Loss:0.160516\n",
      "Train Epoch: 11 [25600/ 60000(43%)]\tTrain Loss:0.130068\n",
      "Train Epoch: 11 [51200/ 60000(85%)]\tTrain Loss:0.080350\n",
      "\n",
      "[EPOCH:11].  \n",
      "Test Loss: 0.0011, \t Test Accuracy: 95.74% \n",
      "\n",
      "Train Epoch: 12 [0/ 60000(0%)]\tTrain Loss:0.071571\n",
      "Train Epoch: 12 [25600/ 60000(43%)]\tTrain Loss:0.114674\n",
      "Train Epoch: 12 [51200/ 60000(85%)]\tTrain Loss:0.102431\n",
      "\n",
      "[EPOCH:12].  \n",
      "Test Loss: 0.0011, \t Test Accuracy: 95.63% \n",
      "\n",
      "Train Epoch: 13 [0/ 60000(0%)]\tTrain Loss:0.082930\n",
      "Train Epoch: 13 [25600/ 60000(43%)]\tTrain Loss:0.066300\n",
      "Train Epoch: 13 [51200/ 60000(85%)]\tTrain Loss:0.206283\n",
      "\n",
      "[EPOCH:13].  \n",
      "Test Loss: 0.0010, \t Test Accuracy: 96.17% \n",
      "\n",
      "Train Epoch: 14 [0/ 60000(0%)]\tTrain Loss:0.091614\n",
      "Train Epoch: 14 [25600/ 60000(43%)]\tTrain Loss:0.173756\n",
      "Train Epoch: 14 [51200/ 60000(85%)]\tTrain Loss:0.091457\n",
      "\n",
      "[EPOCH:14].  \n",
      "Test Loss: 0.0009, \t Test Accuracy: 96.30% \n",
      "\n",
      "Train Epoch: 15 [0/ 60000(0%)]\tTrain Loss:0.122489\n",
      "Train Epoch: 15 [25600/ 60000(43%)]\tTrain Loss:0.044873\n",
      "Train Epoch: 15 [51200/ 60000(85%)]\tTrain Loss:0.222317\n",
      "\n",
      "[EPOCH:15].  \n",
      "Test Loss: 0.0009, \t Test Accuracy: 96.30% \n",
      "\n",
      "Train Epoch: 16 [0/ 60000(0%)]\tTrain Loss:0.114851\n",
      "Train Epoch: 16 [25600/ 60000(43%)]\tTrain Loss:0.146652\n",
      "Train Epoch: 16 [51200/ 60000(85%)]\tTrain Loss:0.103385\n",
      "\n",
      "[EPOCH:16].  \n",
      "Test Loss: 0.0009, \t Test Accuracy: 96.41% \n",
      "\n",
      "Train Epoch: 17 [0/ 60000(0%)]\tTrain Loss:0.128735\n",
      "Train Epoch: 17 [25600/ 60000(43%)]\tTrain Loss:0.090856\n",
      "Train Epoch: 17 [51200/ 60000(85%)]\tTrain Loss:0.100973\n",
      "\n",
      "[EPOCH:17].  \n",
      "Test Loss: 0.0008, \t Test Accuracy: 96.60% \n",
      "\n",
      "Train Epoch: 18 [0/ 60000(0%)]\tTrain Loss:0.103593\n",
      "Train Epoch: 18 [25600/ 60000(43%)]\tTrain Loss:0.035388\n",
      "Train Epoch: 18 [51200/ 60000(85%)]\tTrain Loss:0.064419\n",
      "\n",
      "[EPOCH:18].  \n",
      "Test Loss: 0.0008, \t Test Accuracy: 96.60% \n",
      "\n",
      "Train Epoch: 19 [0/ 60000(0%)]\tTrain Loss:0.102929\n",
      "Train Epoch: 19 [25600/ 60000(43%)]\tTrain Loss:0.055165\n",
      "Train Epoch: 19 [51200/ 60000(85%)]\tTrain Loss:0.069635\n",
      "\n",
      "[EPOCH:19].  \n",
      "Test Loss: 0.0008, \t Test Accuracy: 96.87% \n",
      "\n",
      "Train Epoch: 20 [0/ 60000(0%)]\tTrain Loss:0.091291\n",
      "Train Epoch: 20 [25600/ 60000(43%)]\tTrain Loss:0.196571\n",
      "Train Epoch: 20 [51200/ 60000(85%)]\tTrain Loss:0.080855\n",
      "\n",
      "[EPOCH:20].  \n",
      "Test Loss: 0.0009, \t Test Accuracy: 96.46% \n",
      "\n"
     ]
    }
   ],
   "source": [
    "for Epoch in range(1, EPOCHS +1):\n",
    "    train(model, train_loader, optimizer , log_interval = 200)\n",
    "    test_loss, test_accuracy = evaluate(model, test_loader)\n",
    "    print(\"\\n[EPOCH:{}].  \\nTest Loss: {:.4f}, \\t Test Accuracy: {:.2f}% \\n\".format(Epoch,test_loss,test_accuracy))\n",
    "    # batch 32, log_interval = 200 -> 6400개 씩 학습"
   ]
  },
  {
   "cell_type": "code",
   "execution_count": 1,
   "metadata": {},
   "outputs": [
    {
     "data": {
      "image/png": "[encoded data removed]",
      "text/plain": [
       "<Figure size 640x480 with 1 Axes>"
      ]
     },
     "metadata": {},
     "output_type": "display_data"
    }
   ],
   "source": [
    "from math import exp\n",
    "import matplotlib.pyplot as plt\n",
    "\n",
    "def activate_function(a_1):\n",
    "    return 1.0 / (1.0 + exp(-a_1))\n",
    "\n",
    "inputs = [x/10.0 for x in range(-100, 100)]\n",
    "outputs = [activate_function(x) for x in inputs]\n",
    "\n",
    "plt.plot(inputs, outputs)\n",
    "plt.xlabel('Input')\n",
    "plt.ylabel('Output')\n",
    "plt.title('Sigmoid Function')\n",
    "plt.show()"
   ]
  },
  {
   "cell_type": "markdown",
   "metadata": {},
   "source": [
    "* batch = 16, epochs = 10 Test Loss: 0.0043, \t Test Accuracy: 97.98%\n",
    "* batch = 32, epochs = 10 Test Loss: 0.0024, \t Test Accuracy: 97.60%  \n",
    "* batch = 64, epochs = 10 Test Loss: 0.0018, \t Test Accuracy: 96.26% \n",
    "* batch = 128, epochs = 10 Test Loss: 0.0012, \t Test Accuracy: 95.42% \n",
    "* batch = 16, epochs = 20 Test Loss: 0.0041, \t Test Accuracy: 98.42%  \n",
    "* batch = 32, epochs = 20 Test Loss: 0.0020, \t Test Accuracy: 98.17% \n",
    "* batch = 64, epochs = 20 Test Loss: 0.0011, \t Test Accuracy: 97.93% \n",
    "* batch = 128, epochs = 20 Test Loss: 0.0009, \t Test Accuracy: 96.46% \n",
    "\n",
    "#### The best score is <batch 16, epochs 20> _> "
   ]
  },
  {
   "cell_type": "markdown",
   "metadata": {
    "id": "JJ3Gpy_VjkbF"
   },
   "source": [
    "### 과제\n",
    "* Backpropagation 코드 각 함수 별 어떤 의미가 있는지 주석 달아보기\n",
    "* MLP 모델에서 SGD optim 의 paramter, Bath-size, epoch 조정 해서 성능 올려보기"
   ]
  }
 ],
 "metadata": {
  "accelerator": "GPU",
  "colab": {
   "collapsed_sections": [],
   "machine_shape": "hm",
   "name": "Deepsession2.ipynb",
   "provenance": []
  },
  "kernelspec": {
   "display_name": "Python 3 (ipykernel)",
   "language": "python",
   "name": "python3"
  },
  "language_info": {
   "codemirror_mode": {
    "name": "ipython",
    "version": 3
   },
   "file_extension": ".py",
   "mimetype": "text/x-python",
   "name": "python",
   "nbconvert_exporter": "python",
   "pygments_lexer": "ipython3",
   "version": "3.9.13"
  },
  "widgets": {
   "application/vnd.jupyter.widget-state+json": {
    "04416704ce1d4adeb5e01f22d49c06ac": {
     "model_module": "@jupyter-widgets/base",
     "model_module_version": "1.2.0",
     "model_name": "LayoutModel",
     "state": {
      "_model_module": "@jupyter-widgets/base",
      "_model_module_version": "1.2.0",
      "_model_name": "LayoutModel",
      "_view_count": null,
      "_view_module": "@jupyter-widgets/base",
      "_view_module_version": "1.2.0",
      "_view_name": "LayoutView",
      "align_content": null,
      "align_items": null,
      "align_self": null,
      "border": null,
      "bottom": null,
      "display": null,
      "flex": null,
      "flex_flow": null,
      "grid_area": null,
      "grid_auto_columns": null,
      "grid_auto_flow": null,
      "grid_auto_rows": null,
      "grid_column": null,
      "grid_gap": null,
      "grid_row": null,
      "grid_template_areas": null,
      "grid_template_columns": null,
      "grid_template_rows": null,
      "height": null,
      "justify_content": null,
      "justify_items": null,
      "left": null,
      "margin": null,
      "max_height": null,
      "max_width": null,
      "min_height": null,
      "min_width": null,
      "object_fit": null,
      "object_position": null,
      "order": null,
      "overflow": null,
      "overflow_x": null,
      "overflow_y": null,
      "padding": null,
      "right": null,
      "top": null,
      "visibility": null,
      "width": null
     }
    },
    "06d9eb60913342f0bbbec140bdf7c4af": {
     "model_module": "@jupyter-widgets/controls",
     "model_module_version": "1.5.0",
     "model_name": "FloatProgressModel",
     "state": {
      "_dom_classes": [],
      "_model_module": "@jupyter-widgets/controls",
      "_model_module_version": "1.5.0",
      "_model_name": "FloatProgressModel",
      "_view_count": null,
      "_view_module": "@jupyter-widgets/controls",
      "_view_module_version": "1.5.0",
      "_view_name": "ProgressView",
      "bar_style": "success",
      "description": "",
      "description_tooltip": null,
      "layout": "IPY_MODEL_16415c17813d43ca8a5510d1a67611fb",
      "max": 4542,
      "min": 0,
      "orientation": "horizontal",
      "style": "IPY_MODEL_2eecc80d843140d8a89ed5da27bd5cbf",
      "value": 4542
     }
    },
    "0891b0ec49e643bcba9d78a77d677a35": {
     "model_module": "@jupyter-widgets/controls",
     "model_module_version": "1.5.0",
     "model_name": "FloatProgressModel",
     "state": {
      "_dom_classes": [],
      "_model_module": "@jupyter-widgets/controls",
      "_model_module_version": "1.5.0",
      "_model_name": "FloatProgressModel",
      "_view_count": null,
      "_view_module": "@jupyter-widgets/controls",
      "_view_module_version": "1.5.0",
      "_view_name": "ProgressView",
      "bar_style": "success",
      "description": "",
      "description_tooltip": null,
      "layout": "IPY_MODEL_04416704ce1d4adeb5e01f22d49c06ac",
      "max": 9912422,
      "min": 0,
      "orientation": "horizontal",
      "style": "IPY_MODEL_3b9eb4a5e8ef4c17aad921a8ce80c487",
      "value": 9912422
     }
    },
    "093d5930cfcd4e9881f2eb95c1209349": {
     "model_module": "@jupyter-widgets/base",
     "model_module_version": "1.2.0",
     "model_name": "LayoutModel",
     "state": {
      "_model_module": "@jupyter-widgets/base",
      "_model_module_version": "1.2.0",
      "_model_name": "LayoutModel",
      "_view_count": null,
      "_view_module": "@jupyter-widgets/base",
      "_view_module_version": "1.2.0",
      "_view_name": "LayoutView",
      "align_content": null,
      "align_items": null,
      "align_self": null,
      "border": null,
      "bottom": null,
      "display": null,
      "flex": null,
      "flex_flow": null,
      "grid_area": null,
      "grid_auto_columns": null,
      "grid_auto_flow": null,
      "grid_auto_rows": null,
      "grid_column": null,
      "grid_gap": null,
      "grid_row": null,
      "grid_template_areas": null,
      "grid_template_columns": null,
      "grid_template_rows": null,
      "height": null,
      "justify_content": null,
      "justify_items": null,
      "left": null,
      "margin": null,
      "max_height": null,
      "max_width": null,
      "min_height": null,
      "min_width": null,
      "object_fit": null,
      "object_position": null,
      "order": null,
      "overflow": null,
      "overflow_x": null,
      "overflow_y": null,
      "padding": null,
      "right": null,
      "top": null,
      "visibility": null,
      "width": null
     }
    },
    "0e701de608464b67bdf6e183057e3599": {
     "model_module": "@jupyter-widgets/controls",
     "model_module_version": "1.5.0",
     "model_name": "FloatProgressModel",
     "state": {
      "_dom_classes": [],
      "_model_module": "@jupyter-widgets/controls",
      "_model_module_version": "1.5.0",
      "_model_name": "FloatProgressModel",
      "_view_count": null,
      "_view_module": "@jupyter-widgets/controls",
      "_view_module_version": "1.5.0",
      "_view_name": "ProgressView",
      "bar_style": "success",
      "description": "",
      "description_tooltip": null,
      "layout": "IPY_MODEL_21220745df7a4c8892426bdd6fb38b5c",
      "max": 1648877,
      "min": 0,
      "orientation": "horizontal",
      "style": "IPY_MODEL_34a0563ac67a47a4952c947427e2d776",
      "value": 1648877
     }
    },
    "16415c17813d43ca8a5510d1a67611fb": {
     "model_module": "@jupyter-widgets/base",
     "model_module_version": "1.2.0",
     "model_name": "LayoutModel",
     "state": {
      "_model_module": "@jupyter-widgets/base",
      "_model_module_version": "1.2.0",
      "_model_name": "LayoutModel",
      "_view_count": null,
      "_view_module": "@jupyter-widgets/base",
      "_view_module_version": "1.2.0",
      "_view_name": "LayoutView",
      "align_content": null,
      "align_items": null,
      "align_self": null,
      "border": null,
      "bottom": null,
      "display": null,
      "flex": null,
      "flex_flow": null,
      "grid_area": null,
      "grid_auto_columns": null,
      "grid_auto_flow": null,
      "grid_auto_rows": null,
      "grid_column": null,
      "grid_gap": null,
      "grid_row": null,
      "grid_template_areas": null,
      "grid_template_columns": null,
      "grid_template_rows": null,
      "height": null,
      "justify_content": null,
      "justify_items": null,
      "left": null,
      "margin": null,
      "max_height": null,
      "max_width": null,
      "min_height": null,
      "min_width": null,
      "object_fit": null,
      "object_position": null,
      "order": null,
      "overflow": null,
      "overflow_x": null,
      "overflow_y": null,
      "padding": null,
      "right": null,
      "top": null,
      "visibility": null,
      "width": null
     }
    },
    "21220745df7a4c8892426bdd6fb38b5c": {
     "model_module": "@jupyter-widgets/base",
     "model_module_version": "1.2.0",
     "model_name": "LayoutModel",
     "state": {
      "_model_module": "@jupyter-widgets/base",
      "_model_module_version": "1.2.0",
      "_model_name": "LayoutModel",
      "_view_count": null,
      "_view_module": "@jupyter-widgets/base",
      "_view_module_version": "1.2.0",
      "_view_name": "LayoutView",
      "align_content": null,
      "align_items": null,
      "align_self": null,
      "border": null,
      "bottom": null,
      "display": null,
      "flex": null,
      "flex_flow": null,
      "grid_area": null,
      "grid_auto_columns": null,
      "grid_auto_flow": null,
      "grid_auto_rows": null,
      "grid_column": null,
      "grid_gap": null,
      "grid_row": null,
      "grid_template_areas": null,
      "grid_template_columns": null,
      "grid_template_rows": null,
      "height": null,
      "justify_content": null,
      "justify_items": null,
      "left": null,
      "margin": null,
      "max_height": null,
      "max_width": null,
      "min_height": null,
      "min_width": null,
      "object_fit": null,
      "object_position": null,
      "order": null,
      "overflow": null,
      "overflow_x": null,
      "overflow_y": null,
      "padding": null,
      "right": null,
      "top": null,
      "visibility": null,
      "width": null
     }
    },
    "2eecc80d843140d8a89ed5da27bd5cbf": {
     "model_module": "@jupyter-widgets/controls",
     "model_module_version": "1.5.0",
     "model_name": "ProgressStyleModel",
     "state": {
      "_model_module": "@jupyter-widgets/controls",
      "_model_module_version": "1.5.0",
      "_model_name": "ProgressStyleModel",
      "_view_count": null,
      "_view_module": "@jupyter-widgets/base",
      "_view_module_version": "1.2.0",
      "_view_name": "StyleView",
      "bar_color": null,
      "description_width": ""
     }
    },
    "2f72793f2f594e1eb2c4b5c941ffd3ff": {
     "model_module": "@jupyter-widgets/base",
     "model_module_version": "1.2.0",
     "model_name": "LayoutModel",
     "state": {
      "_model_module": "@jupyter-widgets/base",
      "_model_module_version": "1.2.0",
      "_model_name": "LayoutModel",
      "_view_count": null,
      "_view_module": "@jupyter-widgets/base",
      "_view_module_version": "1.2.0",
      "_view_name": "LayoutView",
      "align_content": null,
      "align_items": null,
      "align_self": null,
      "border": null,
      "bottom": null,
      "display": null,
      "flex": null,
      "flex_flow": null,
      "grid_area": null,
      "grid_auto_columns": null,
      "grid_auto_flow": null,
      "grid_auto_rows": null,
      "grid_column": null,
      "grid_gap": null,
      "grid_row": null,
      "grid_template_areas": null,
      "grid_template_columns": null,
      "grid_template_rows": null,
      "height": null,
      "justify_content": null,
      "justify_items": null,
      "left": null,
      "margin": null,
      "max_height": null,
      "max_width": null,
      "min_height": null,
      "min_width": null,
      "object_fit": null,
      "object_position": null,
      "order": null,
      "overflow": null,
      "overflow_x": null,
      "overflow_y": null,
      "padding": null,
      "right": null,
      "top": null,
      "visibility": null,
      "width": null
     }
    },
    "31520cce7a7a4106ae8854fc58b78852": {
     "model_module": "@jupyter-widgets/base",
     "model_module_version": "1.2.0",
     "model_name": "LayoutModel",
     "state": {
      "_model_module": "@jupyter-widgets/base",
      "_model_module_version": "1.2.0",
      "_model_name": "LayoutModel",
      "_view_count": null,
      "_view_module": "@jupyter-widgets/base",
      "_view_module_version": "1.2.0",
      "_view_name": "LayoutView",
      "align_content": null,
      "align_items": null,
      "align_self": null,
      "border": null,
      "bottom": null,
      "display": null,
      "flex": null,
      "flex_flow": null,
      "grid_area": null,
      "grid_auto_columns": null,
      "grid_auto_flow": null,
      "grid_auto_rows": null,
      "grid_column": null,
      "grid_gap": null,
      "grid_row": null,
      "grid_template_areas": null,
      "grid_template_columns": null,
      "grid_template_rows": null,
      "height": null,
      "justify_content": null,
      "justify_items": null,
      "left": null,
      "margin": null,
      "max_height": null,
      "max_width": null,
      "min_height": null,
      "min_width": null,
      "object_fit": null,
      "object_position": null,
      "order": null,
      "overflow": null,
      "overflow_x": null,
      "overflow_y": null,
      "padding": null,
      "right": null,
      "top": null,
      "visibility": null,
      "width": null
     }
    },
    "3171b61d4821460c9b4bae8133b68983": {
     "model_module": "@jupyter-widgets/controls",
     "model_module_version": "1.5.0",
     "model_name": "HBoxModel",
     "state": {
      "_dom_classes": [],
      "_model_module": "@jupyter-widgets/controls",
      "_model_module_version": "1.5.0",
      "_model_name": "HBoxModel",
      "_view_count": null,
      "_view_module": "@jupyter-widgets/controls",
      "_view_module_version": "1.5.0",
      "_view_name": "HBoxView",
      "box_style": "",
      "children": [
       "IPY_MODEL_9c641912c4e94dca8065a5a919e5263a",
       "IPY_MODEL_06d9eb60913342f0bbbec140bdf7c4af",
       "IPY_MODEL_a9fff2bbb8a54aceb3fa1e9da3cb9c67"
      ],
      "layout": "IPY_MODEL_f04ba5086c81450d8f307f3af469c558"
     }
    },
    "34a0563ac67a47a4952c947427e2d776": {
     "model_module": "@jupyter-widgets/controls",
     "model_module_version": "1.5.0",
     "model_name": "ProgressStyleModel",
     "state": {
      "_model_module": "@jupyter-widgets/controls",
      "_model_module_version": "1.5.0",
      "_model_name": "ProgressStyleModel",
      "_view_count": null,
      "_view_module": "@jupyter-widgets/base",
      "_view_module_version": "1.2.0",
      "_view_name": "StyleView",
      "bar_color": null,
      "description_width": ""
     }
    },
    "393cb9f08c9344d5b64f5b25c0398a8b": {
     "model_module": "@jupyter-widgets/base",
     "model_module_version": "1.2.0",
     "model_name": "LayoutModel",
     "state": {
      "_model_module": "@jupyter-widgets/base",
      "_model_module_version": "1.2.0",
      "_model_name": "LayoutModel",
      "_view_count": null,
      "_view_module": "@jupyter-widgets/base",
      "_view_module_version": "1.2.0",
      "_view_name": "LayoutView",
      "align_content": null,
      "align_items": null,
      "align_self": null,
      "border": null,
      "bottom": null,
      "display": null,
      "flex": null,
      "flex_flow": null,
      "grid_area": null,
      "grid_auto_columns": null,
      "grid_auto_flow": null,
      "grid_auto_rows": null,
      "grid_column": null,
      "grid_gap": null,
      "grid_row": null,
      "grid_template_areas": null,
      "grid_template_columns": null,
      "grid_template_rows": null,
      "height": null,
      "justify_content": null,
      "justify_items": null,
      "left": null,
      "margin": null,
      "max_height": null,
      "max_width": null,
      "min_height": null,
      "min_width": null,
      "object_fit": null,
      "object_position": null,
      "order": null,
      "overflow": null,
      "overflow_x": null,
      "overflow_y": null,
      "padding": null,
      "right": null,
      "top": null,
      "visibility": null,
      "width": null
     }
    },
    "3b9eb4a5e8ef4c17aad921a8ce80c487": {
     "model_module": "@jupyter-widgets/controls",
     "model_module_version": "1.5.0",
     "model_name": "ProgressStyleModel",
     "state": {
      "_model_module": "@jupyter-widgets/controls",
      "_model_module_version": "1.5.0",
      "_model_name": "ProgressStyleModel",
      "_view_count": null,
      "_view_module": "@jupyter-widgets/base",
      "_view_module_version": "1.2.0",
      "_view_name": "StyleView",
      "bar_color": null,
      "description_width": ""
     }
    },
    "3baa1a3922b74207856b256ad3e4a052": {
     "model_module": "@jupyter-widgets/base",
     "model_module_version": "1.2.0",
     "model_name": "LayoutModel",
     "state": {
      "_model_module": "@jupyter-widgets/base",
      "_model_module_version": "1.2.0",
      "_model_name": "LayoutModel",
      "_view_count": null,
      "_view_module": "@jupyter-widgets/base",
      "_view_module_version": "1.2.0",
      "_view_name": "LayoutView",
      "align_content": null,
      "align_items": null,
      "align_self": null,
      "border": null,
      "bottom": null,
      "display": null,
      "flex": null,
      "flex_flow": null,
      "grid_area": null,
      "grid_auto_columns": null,
      "grid_auto_flow": null,
      "grid_auto_rows": null,
      "grid_column": null,
      "grid_gap": null,
      "grid_row": null,
      "grid_template_areas": null,
      "grid_template_columns": null,
      "grid_template_rows": null,
      "height": null,
      "justify_content": null,
      "justify_items": null,
      "left": null,
      "margin": null,
      "max_height": null,
      "max_width": null,
      "min_height": null,
      "min_width": null,
      "object_fit": null,
      "object_position": null,
      "order": null,
      "overflow": null,
      "overflow_x": null,
      "overflow_y": null,
      "padding": null,
      "right": null,
      "top": null,
      "visibility": null,
      "width": null
     }
    },
    "4011ae99fb20417bbb7c2d56fb01b071": {
     "model_module": "@jupyter-widgets/controls",
     "model_module_version": "1.5.0",
     "model_name": "HBoxModel",
     "state": {
      "_dom_classes": [],
      "_model_module": "@jupyter-widgets/controls",
      "_model_module_version": "1.5.0",
      "_model_name": "HBoxModel",
      "_view_count": null,
      "_view_module": "@jupyter-widgets/controls",
      "_view_module_version": "1.5.0",
      "_view_name": "HBoxView",
      "box_style": "",
      "children": [
       "IPY_MODEL_7670661fe1414b55ad0f4ec57b333bd4",
       "IPY_MODEL_0891b0ec49e643bcba9d78a77d677a35",
       "IPY_MODEL_dec8616d72a04e9c9c261b77a8c4f1dd"
      ],
      "layout": "IPY_MODEL_dd47924245404150804deb7cdfbefe2a"
     }
    },
    "42466c798b6147e79b72f0ebbf829863": {
     "model_module": "@jupyter-widgets/controls",
     "model_module_version": "1.5.0",
     "model_name": "DescriptionStyleModel",
     "state": {
      "_model_module": "@jupyter-widgets/controls",
      "_model_module_version": "1.5.0",
      "_model_name": "DescriptionStyleModel",
      "_view_count": null,
      "_view_module": "@jupyter-widgets/base",
      "_view_module_version": "1.2.0",
      "_view_name": "StyleView",
      "description_width": ""
     }
    },
    "4ab5b84bdc32430c82928ca558a4c63a": {
     "model_module": "@jupyter-widgets/controls",
     "model_module_version": "1.5.0",
     "model_name": "DescriptionStyleModel",
     "state": {
      "_model_module": "@jupyter-widgets/controls",
      "_model_module_version": "1.5.0",
      "_model_name": "DescriptionStyleModel",
      "_view_count": null,
      "_view_module": "@jupyter-widgets/base",
      "_view_module_version": "1.2.0",
      "_view_name": "StyleView",
      "description_width": ""
     }
    },
    "4b6ca901ec2b4e43b087aa8d76f79de8": {
     "model_module": "@jupyter-widgets/controls",
     "model_module_version": "1.5.0",
     "model_name": "DescriptionStyleModel",
     "state": {
      "_model_module": "@jupyter-widgets/controls",
      "_model_module_version": "1.5.0",
      "_model_name": "DescriptionStyleModel",
      "_view_count": null,
      "_view_module": "@jupyter-widgets/base",
      "_view_module_version": "1.2.0",
      "_view_name": "StyleView",
      "description_width": ""
     }
    },
    "4f4850d628fb46c9bcd8ff1ac7c5aeed": {
     "model_module": "@jupyter-widgets/controls",
     "model_module_version": "1.5.0",
     "model_name": "HTMLModel",
     "state": {
      "_dom_classes": [],
      "_model_module": "@jupyter-widgets/controls",
      "_model_module_version": "1.5.0",
      "_model_name": "HTMLModel",
      "_view_count": null,
      "_view_module": "@jupyter-widgets/controls",
      "_view_module_version": "1.5.0",
      "_view_name": "HTMLView",
      "description": "",
      "description_tooltip": null,
      "layout": "IPY_MODEL_2f72793f2f594e1eb2c4b5c941ffd3ff",
      "placeholder": "​",
      "style": "IPY_MODEL_4b6ca901ec2b4e43b087aa8d76f79de8",
      "value": ""
     }
    },
    "58825749bf87447c9fa94b968c474630": {
     "model_module": "@jupyter-widgets/base",
     "model_module_version": "1.2.0",
     "model_name": "LayoutModel",
     "state": {
      "_model_module": "@jupyter-widgets/base",
      "_model_module_version": "1.2.0",
      "_model_name": "LayoutModel",
      "_view_count": null,
      "_view_module": "@jupyter-widgets/base",
      "_view_module_version": "1.2.0",
      "_view_name": "LayoutView",
      "align_content": null,
      "align_items": null,
      "align_self": null,
      "border": null,
      "bottom": null,
      "display": null,
      "flex": null,
      "flex_flow": null,
      "grid_area": null,
      "grid_auto_columns": null,
      "grid_auto_flow": null,
      "grid_auto_rows": null,
      "grid_column": null,
      "grid_gap": null,
      "grid_row": null,
      "grid_template_areas": null,
      "grid_template_columns": null,
      "grid_template_rows": null,
      "height": null,
      "justify_content": null,
      "justify_items": null,
      "left": null,
      "margin": null,
      "max_height": null,
      "max_width": null,
      "min_height": null,
      "min_width": null,
      "object_fit": null,
      "object_position": null,
      "order": null,
      "overflow": null,
      "overflow_x": null,
      "overflow_y": null,
      "padding": null,
      "right": null,
      "top": null,
      "visibility": null,
      "width": null
     }
    },
    "58b218f2ceb34cf3a3e30e29561f85f7": {
     "model_module": "@jupyter-widgets/base",
     "model_module_version": "1.2.0",
     "model_name": "LayoutModel",
     "state": {
      "_model_module": "@jupyter-widgets/base",
      "_model_module_version": "1.2.0",
      "_model_name": "LayoutModel",
      "_view_count": null,
      "_view_module": "@jupyter-widgets/base",
      "_view_module_version": "1.2.0",
      "_view_name": "LayoutView",
      "align_content": null,
      "align_items": null,
      "align_self": null,
      "border": null,
      "bottom": null,
      "display": null,
      "flex": null,
      "flex_flow": null,
      "grid_area": null,
      "grid_auto_columns": null,
      "grid_auto_flow": null,
      "grid_auto_rows": null,
      "grid_column": null,
      "grid_gap": null,
      "grid_row": null,
      "grid_template_areas": null,
      "grid_template_columns": null,
      "grid_template_rows": null,
      "height": null,
      "justify_content": null,
      "justify_items": null,
      "left": null,
      "margin": null,
      "max_height": null,
      "max_width": null,
      "min_height": null,
      "min_width": null,
      "object_fit": null,
      "object_position": null,
      "order": null,
      "overflow": null,
      "overflow_x": null,
      "overflow_y": null,
      "padding": null,
      "right": null,
      "top": null,
      "visibility": null,
      "width": null
     }
    },
    "5db577a583bf4aab8e2511bbbbc0a659": {
     "model_module": "@jupyter-widgets/controls",
     "model_module_version": "1.5.0",
     "model_name": "DescriptionStyleModel",
     "state": {
      "_model_module": "@jupyter-widgets/controls",
      "_model_module_version": "1.5.0",
      "_model_name": "DescriptionStyleModel",
      "_view_count": null,
      "_view_module": "@jupyter-widgets/base",
      "_view_module_version": "1.2.0",
      "_view_name": "StyleView",
      "description_width": ""
     }
    },
    "6b7b392accf74a38962a748c5d8b784a": {
     "model_module": "@jupyter-widgets/base",
     "model_module_version": "1.2.0",
     "model_name": "LayoutModel",
     "state": {
      "_model_module": "@jupyter-widgets/base",
      "_model_module_version": "1.2.0",
      "_model_name": "LayoutModel",
      "_view_count": null,
      "_view_module": "@jupyter-widgets/base",
      "_view_module_version": "1.2.0",
      "_view_name": "LayoutView",
      "align_content": null,
      "align_items": null,
      "align_self": null,
      "border": null,
      "bottom": null,
      "display": null,
      "flex": null,
      "flex_flow": null,
      "grid_area": null,
      "grid_auto_columns": null,
      "grid_auto_flow": null,
      "grid_auto_rows": null,
      "grid_column": null,
      "grid_gap": null,
      "grid_row": null,
      "grid_template_areas": null,
      "grid_template_columns": null,
      "grid_template_rows": null,
      "height": null,
      "justify_content": null,
      "justify_items": null,
      "left": null,
      "margin": null,
      "max_height": null,
      "max_width": null,
      "min_height": null,
      "min_width": null,
      "object_fit": null,
      "object_position": null,
      "order": null,
      "overflow": null,
      "overflow_x": null,
      "overflow_y": null,
      "padding": null,
      "right": null,
      "top": null,
      "visibility": null,
      "width": null
     }
    },
    "7670661fe1414b55ad0f4ec57b333bd4": {
     "model_module": "@jupyter-widgets/controls",
     "model_module_version": "1.5.0",
     "model_name": "HTMLModel",
     "state": {
      "_dom_classes": [],
      "_model_module": "@jupyter-widgets/controls",
      "_model_module_version": "1.5.0",
      "_model_name": "HTMLModel",
      "_view_count": null,
      "_view_module": "@jupyter-widgets/controls",
      "_view_module_version": "1.5.0",
      "_view_name": "HTMLView",
      "description": "",
      "description_tooltip": null,
      "layout": "IPY_MODEL_58825749bf87447c9fa94b968c474630",
      "placeholder": "​",
      "style": "IPY_MODEL_b00a5879a12b4ffa8b9cf31ee4962de5",
      "value": ""
     }
    },
    "9290b8d1c78347e59ffd053414c15b7d": {
     "model_module": "@jupyter-widgets/controls",
     "model_module_version": "1.5.0",
     "model_name": "ProgressStyleModel",
     "state": {
      "_model_module": "@jupyter-widgets/controls",
      "_model_module_version": "1.5.0",
      "_model_name": "ProgressStyleModel",
      "_view_count": null,
      "_view_module": "@jupyter-widgets/base",
      "_view_module_version": "1.2.0",
      "_view_name": "StyleView",
      "bar_color": null,
      "description_width": ""
     }
    },
    "9c641912c4e94dca8065a5a919e5263a": {
     "model_module": "@jupyter-widgets/controls",
     "model_module_version": "1.5.0",
     "model_name": "HTMLModel",
     "state": {
      "_dom_classes": [],
      "_model_module": "@jupyter-widgets/controls",
      "_model_module_version": "1.5.0",
      "_model_name": "HTMLModel",
      "_view_count": null,
      "_view_module": "@jupyter-widgets/controls",
      "_view_module_version": "1.5.0",
      "_view_name": "HTMLView",
      "description": "",
      "description_tooltip": null,
      "layout": "IPY_MODEL_393cb9f08c9344d5b64f5b25c0398a8b",
      "placeholder": "​",
      "style": "IPY_MODEL_e6b3bbd64df74d0490dd00a6308b1416",
      "value": ""
     }
    },
    "a479160014f34c71a6a3e2a64e239539": {
     "model_module": "@jupyter-widgets/base",
     "model_module_version": "1.2.0",
     "model_name": "LayoutModel",
     "state": {
      "_model_module": "@jupyter-widgets/base",
      "_model_module_version": "1.2.0",
      "_model_name": "LayoutModel",
      "_view_count": null,
      "_view_module": "@jupyter-widgets/base",
      "_view_module_version": "1.2.0",
      "_view_name": "LayoutView",
      "align_content": null,
      "align_items": null,
      "align_self": null,
      "border": null,
      "bottom": null,
      "display": null,
      "flex": null,
      "flex_flow": null,
      "grid_area": null,
      "grid_auto_columns": null,
      "grid_auto_flow": null,
      "grid_auto_rows": null,
      "grid_column": null,
      "grid_gap": null,
      "grid_row": null,
      "grid_template_areas": null,
      "grid_template_columns": null,
      "grid_template_rows": null,
      "height": null,
      "justify_content": null,
      "justify_items": null,
      "left": null,
      "margin": null,
      "max_height": null,
      "max_width": null,
      "min_height": null,
      "min_width": null,
      "object_fit": null,
      "object_position": null,
      "order": null,
      "overflow": null,
      "overflow_x": null,
      "overflow_y": null,
      "padding": null,
      "right": null,
      "top": null,
      "visibility": null,
      "width": null
     }
    },
    "a9fff2bbb8a54aceb3fa1e9da3cb9c67": {
     "model_module": "@jupyter-widgets/controls",
     "model_module_version": "1.5.0",
     "model_name": "HTMLModel",
     "state": {
      "_dom_classes": [],
      "_model_module": "@jupyter-widgets/controls",
      "_model_module_version": "1.5.0",
      "_model_name": "HTMLModel",
      "_view_count": null,
      "_view_module": "@jupyter-widgets/controls",
      "_view_module_version": "1.5.0",
      "_view_name": "HTMLView",
      "description": "",
      "description_tooltip": null,
      "layout": "IPY_MODEL_093d5930cfcd4e9881f2eb95c1209349",
      "placeholder": "​",
      "style": "IPY_MODEL_5db577a583bf4aab8e2511bbbbc0a659",
      "value": " 5120/? [00:00&lt;00:00, 147814.85it/s]"
     }
    },
    "b00a5879a12b4ffa8b9cf31ee4962de5": {
     "model_module": "@jupyter-widgets/controls",
     "model_module_version": "1.5.0",
     "model_name": "DescriptionStyleModel",
     "state": {
      "_model_module": "@jupyter-widgets/controls",
      "_model_module_version": "1.5.0",
      "_model_name": "DescriptionStyleModel",
      "_view_count": null,
      "_view_module": "@jupyter-widgets/base",
      "_view_module_version": "1.2.0",
      "_view_name": "StyleView",
      "description_width": ""
     }
    },
    "b8944d7a4be84e6e97c3db865272adfd": {
     "model_module": "@jupyter-widgets/controls",
     "model_module_version": "1.5.0",
     "model_name": "HBoxModel",
     "state": {
      "_dom_classes": [],
      "_model_module": "@jupyter-widgets/controls",
      "_model_module_version": "1.5.0",
      "_model_name": "HBoxModel",
      "_view_count": null,
      "_view_module": "@jupyter-widgets/controls",
      "_view_module_version": "1.5.0",
      "_view_name": "HBoxView",
      "box_style": "",
      "children": [
       "IPY_MODEL_4f4850d628fb46c9bcd8ff1ac7c5aeed",
       "IPY_MODEL_0e701de608464b67bdf6e183057e3599",
       "IPY_MODEL_bea684b8ef0d4475bcc8f8cd2c7953e7"
      ],
      "layout": "IPY_MODEL_f584a1fefb5143e48487802e466d96f5"
     }
    },
    "bea684b8ef0d4475bcc8f8cd2c7953e7": {
     "model_module": "@jupyter-widgets/controls",
     "model_module_version": "1.5.0",
     "model_name": "HTMLModel",
     "state": {
      "_dom_classes": [],
      "_model_module": "@jupyter-widgets/controls",
      "_model_module_version": "1.5.0",
      "_model_name": "HTMLModel",
      "_view_count": null,
      "_view_module": "@jupyter-widgets/controls",
      "_view_module_version": "1.5.0",
      "_view_name": "HTMLView",
      "description": "",
      "description_tooltip": null,
      "layout": "IPY_MODEL_a479160014f34c71a6a3e2a64e239539",
      "placeholder": "​",
      "style": "IPY_MODEL_4ab5b84bdc32430c82928ca558a4c63a",
      "value": " 1649664/? [00:00&lt;00:00, 6627391.83it/s]"
     }
    },
    "dd47924245404150804deb7cdfbefe2a": {
     "model_module": "@jupyter-widgets/base",
     "model_module_version": "1.2.0",
     "model_name": "LayoutModel",
     "state": {
      "_model_module": "@jupyter-widgets/base",
      "_model_module_version": "1.2.0",
      "_model_name": "LayoutModel",
      "_view_count": null,
      "_view_module": "@jupyter-widgets/base",
      "_view_module_version": "1.2.0",
      "_view_name": "LayoutView",
      "align_content": null,
      "align_items": null,
      "align_self": null,
      "border": null,
      "bottom": null,
      "display": null,
      "flex": null,
      "flex_flow": null,
      "grid_area": null,
      "grid_auto_columns": null,
      "grid_auto_flow": null,
      "grid_auto_rows": null,
      "grid_column": null,
      "grid_gap": null,
      "grid_row": null,
      "grid_template_areas": null,
      "grid_template_columns": null,
      "grid_template_rows": null,
      "height": null,
      "justify_content": null,
      "justify_items": null,
      "left": null,
      "margin": null,
      "max_height": null,
      "max_width": null,
      "min_height": null,
      "min_width": null,
      "object_fit": null,
      "object_position": null,
      "order": null,
      "overflow": null,
      "overflow_x": null,
      "overflow_y": null,
      "padding": null,
      "right": null,
      "top": null,
      "visibility": null,
      "width": null
     }
    },
    "de7b14c097b5462cb5052aae1f0fc3b3": {
     "model_module": "@jupyter-widgets/controls",
     "model_module_version": "1.5.0",
     "model_name": "FloatProgressModel",
     "state": {
      "_dom_classes": [],
      "_model_module": "@jupyter-widgets/controls",
      "_model_module_version": "1.5.0",
      "_model_name": "FloatProgressModel",
      "_view_count": null,
      "_view_module": "@jupyter-widgets/controls",
      "_view_module_version": "1.5.0",
      "_view_name": "ProgressView",
      "bar_style": "success",
      "description": "",
      "description_tooltip": null,
      "layout": "IPY_MODEL_3baa1a3922b74207856b256ad3e4a052",
      "max": 28881,
      "min": 0,
      "orientation": "horizontal",
      "style": "IPY_MODEL_9290b8d1c78347e59ffd053414c15b7d",
      "value": 28881
     }
    },
    "dec8616d72a04e9c9c261b77a8c4f1dd": {
     "model_module": "@jupyter-widgets/controls",
     "model_module_version": "1.5.0",
     "model_name": "HTMLModel",
     "state": {
      "_dom_classes": [],
      "_model_module": "@jupyter-widgets/controls",
      "_model_module_version": "1.5.0",
      "_model_name": "HTMLModel",
      "_view_count": null,
      "_view_module": "@jupyter-widgets/controls",
      "_view_module_version": "1.5.0",
      "_view_name": "HTMLView",
      "description": "",
      "description_tooltip": null,
      "layout": "IPY_MODEL_f19bbd0e0ff84bbfbd60491ef64d4068",
      "placeholder": "​",
      "style": "IPY_MODEL_f3bccf9ac4b34f32b51a31507bb4494c",
      "value": " 9913344/? [00:00&lt;00:00, 6398613.31it/s]"
     }
    },
    "e07f4fe3c40340ad8e0f662450d30231": {
     "model_module": "@jupyter-widgets/controls",
     "model_module_version": "1.5.0",
     "model_name": "HTMLModel",
     "state": {
      "_dom_classes": [],
      "_model_module": "@jupyter-widgets/controls",
      "_model_module_version": "1.5.0",
      "_model_name": "HTMLModel",
      "_view_count": null,
      "_view_module": "@jupyter-widgets/controls",
      "_view_module_version": "1.5.0",
      "_view_name": "HTMLView",
      "description": "",
      "description_tooltip": null,
      "layout": "IPY_MODEL_31520cce7a7a4106ae8854fc58b78852",
      "placeholder": "​",
      "style": "IPY_MODEL_42466c798b6147e79b72f0ebbf829863",
      "value": ""
     }
    },
    "e6b3bbd64df74d0490dd00a6308b1416": {
     "model_module": "@jupyter-widgets/controls",
     "model_module_version": "1.5.0",
     "model_name": "DescriptionStyleModel",
     "state": {
      "_model_module": "@jupyter-widgets/controls",
      "_model_module_version": "1.5.0",
      "_model_name": "DescriptionStyleModel",
      "_view_count": null,
      "_view_module": "@jupyter-widgets/base",
      "_view_module_version": "1.2.0",
      "_view_name": "StyleView",
      "description_width": ""
     }
    },
    "ecef5fc11b6f461aa6a3126bf6cf1145": {
     "model_module": "@jupyter-widgets/controls",
     "model_module_version": "1.5.0",
     "model_name": "DescriptionStyleModel",
     "state": {
      "_model_module": "@jupyter-widgets/controls",
      "_model_module_version": "1.5.0",
      "_model_name": "DescriptionStyleModel",
      "_view_count": null,
      "_view_module": "@jupyter-widgets/base",
      "_view_module_version": "1.2.0",
      "_view_name": "StyleView",
      "description_width": ""
     }
    },
    "f04ba5086c81450d8f307f3af469c558": {
     "model_module": "@jupyter-widgets/base",
     "model_module_version": "1.2.0",
     "model_name": "LayoutModel",
     "state": {
      "_model_module": "@jupyter-widgets/base",
      "_model_module_version": "1.2.0",
      "_model_name": "LayoutModel",
      "_view_count": null,
      "_view_module": "@jupyter-widgets/base",
      "_view_module_version": "1.2.0",
      "_view_name": "LayoutView",
      "align_content": null,
      "align_items": null,
      "align_self": null,
      "border": null,
      "bottom": null,
      "display": null,
      "flex": null,
      "flex_flow": null,
      "grid_area": null,
      "grid_auto_columns": null,
      "grid_auto_flow": null,
      "grid_auto_rows": null,
      "grid_column": null,
      "grid_gap": null,
      "grid_row": null,
      "grid_template_areas": null,
      "grid_template_columns": null,
      "grid_template_rows": null,
      "height": null,
      "justify_content": null,
      "justify_items": null,
      "left": null,
      "margin": null,
      "max_height": null,
      "max_width": null,
      "min_height": null,
      "min_width": null,
      "object_fit": null,
      "object_position": null,
      "order": null,
      "overflow": null,
      "overflow_x": null,
      "overflow_y": null,
      "padding": null,
      "right": null,
      "top": null,
      "visibility": null,
      "width": null
     }
    },
    "f19bbd0e0ff84bbfbd60491ef64d4068": {
     "model_module": "@jupyter-widgets/base",
     "model_module_version": "1.2.0",
     "model_name": "LayoutModel",
     "state": {
      "_model_module": "@jupyter-widgets/base",
      "_model_module_version": "1.2.0",
      "_model_name": "LayoutModel",
      "_view_count": null,
      "_view_module": "@jupyter-widgets/base",
      "_view_module_version": "1.2.0",
      "_view_name": "LayoutView",
      "align_content": null,
      "align_items": null,
      "align_self": null,
      "border": null,
      "bottom": null,
      "display": null,
      "flex": null,
      "flex_flow": null,
      "grid_area": null,
      "grid_auto_columns": null,
      "grid_auto_flow": null,
      "grid_auto_rows": null,
      "grid_column": null,
      "grid_gap": null,
      "grid_row": null,
      "grid_template_areas": null,
      "grid_template_columns": null,
      "grid_template_rows": null,
      "height": null,
      "justify_content": null,
      "justify_items": null,
      "left": null,
      "margin": null,
      "max_height": null,
      "max_width": null,
      "min_height": null,
      "min_width": null,
      "object_fit": null,
      "object_position": null,
      "order": null,
      "overflow": null,
      "overflow_x": null,
      "overflow_y": null,
      "padding": null,
      "right": null,
      "top": null,
      "visibility": null,
      "width": null
     }
    },
    "f3761e2c677e47d0bff24a5d8e5bc73f": {
     "model_module": "@jupyter-widgets/controls",
     "model_module_version": "1.5.0",
     "model_name": "HBoxModel",
     "state": {
      "_dom_classes": [],
      "_model_module": "@jupyter-widgets/controls",
      "_model_module_version": "1.5.0",
      "_model_name": "HBoxModel",
      "_view_count": null,
      "_view_module": "@jupyter-widgets/controls",
      "_view_module_version": "1.5.0",
      "_view_name": "HBoxView",
      "box_style": "",
      "children": [
       "IPY_MODEL_e07f4fe3c40340ad8e0f662450d30231",
       "IPY_MODEL_de7b14c097b5462cb5052aae1f0fc3b3",
       "IPY_MODEL_f86d6ab8dfa943379806fe2fbfdbf5ce"
      ],
      "layout": "IPY_MODEL_6b7b392accf74a38962a748c5d8b784a"
     }
    },
    "f3bccf9ac4b34f32b51a31507bb4494c": {
     "model_module": "@jupyter-widgets/controls",
     "model_module_version": "1.5.0",
     "model_name": "DescriptionStyleModel",
     "state": {
      "_model_module": "@jupyter-widgets/controls",
      "_model_module_version": "1.5.0",
      "_model_name": "DescriptionStyleModel",
      "_view_count": null,
      "_view_module": "@jupyter-widgets/base",
      "_view_module_version": "1.2.0",
      "_view_name": "StyleView",
      "description_width": ""
     }
    },
    "f584a1fefb5143e48487802e466d96f5": {
     "model_module": "@jupyter-widgets/base",
     "model_module_version": "1.2.0",
     "model_name": "LayoutModel",
     "state": {
      "_model_module": "@jupyter-widgets/base",
      "_model_module_version": "1.2.0",
      "_model_name": "LayoutModel",
      "_view_count": null,
      "_view_module": "@jupyter-widgets/base",
      "_view_module_version": "1.2.0",
      "_view_name": "LayoutView",
      "align_content": null,
      "align_items": null,
      "align_self": null,
      "border": null,
      "bottom": null,
      "display": null,
      "flex": null,
      "flex_flow": null,
      "grid_area": null,
      "grid_auto_columns": null,
      "grid_auto_flow": null,
      "grid_auto_rows": null,
      "grid_column": null,
      "grid_gap": null,
      "grid_row": null,
      "grid_template_areas": null,
      "grid_template_columns": null,
      "grid_template_rows": null,
      "height": null,
      "justify_content": null,
      "justify_items": null,
      "left": null,
      "margin": null,
      "max_height": null,
      "max_width": null,
      "min_height": null,
      "min_width": null,
      "object_fit": null,
      "object_position": null,
      "order": null,
      "overflow": null,
      "overflow_x": null,
      "overflow_y": null,
      "padding": null,
      "right": null,
      "top": null,
      "visibility": null,
      "width": null
     }
    },
    "f86d6ab8dfa943379806fe2fbfdbf5ce": {
     "model_module": "@jupyter-widgets/controls",
     "model_module_version": "1.5.0",
     "model_name": "HTMLModel",
     "state": {
      "_dom_classes": [],
      "_model_module": "@jupyter-widgets/controls",
      "_model_module_version": "1.5.0",
      "_model_name": "HTMLModel",
      "_view_count": null,
      "_view_module": "@jupyter-widgets/controls",
      "_view_module_version": "1.5.0",
      "_view_name": "HTMLView",
      "description": "",
      "description_tooltip": null,
      "layout": "IPY_MODEL_58b218f2ceb34cf3a3e30e29561f85f7",
      "placeholder": "​",
      "style": "IPY_MODEL_ecef5fc11b6f461aa6a3126bf6cf1145",
      "value": " 29696/? [00:00&lt;00:00, 1239171.18it/s]"
     }
    }
   }
  }
 },
 "nbformat": 4,
 "nbformat_minor": 1
}
