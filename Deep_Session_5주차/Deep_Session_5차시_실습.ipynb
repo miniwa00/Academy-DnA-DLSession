{
 "cells": [
  {
   "cell_type": "markdown",
   "id": "fca7ac54",
   "metadata": {},
   "source": [
    "## LeNet Architecture"
   ]
  },
  {
   "cell_type": "markdown",
   "id": "ccc8e4f5",
   "metadata": {},
   "source": [
    "<img src='http://drive.google.com/uc?export=view&id=1MevERvWOuYttJyTaFbGDJggB3luPD0TP' /><br>"
   ]
  },
  {
   "cell_type": "markdown",
   "id": "c8b8b964",
   "metadata": {},
   "source": [
    "LeNet-5는 32x32 크기의 흑백 이미지에서 학습된 7 layer Convolutional Neural Network  \n",
    "\n",
    "[Conv(C1) - Subsampling(S2) - Conv(C3) - Subsampling(S4) - Conv(C5) - FC - FC]  \n",
    "\n",
    "**Input**  \n",
    "입력 이미지는 32x32  \n",
    "**Layer C1**  \n",
    "5x5 크기의 kernel 6개와 stride=1, convolutional layer  \n",
    "입력 크기는 32x32x1 이고, 출력 크기는 28x28x6  \n",
    "**Layer S2**   \n",
    "2x2 크기의 kernel 6개와 stride=2, subsampling layer  \n",
    "입력 크기는 28x28x6 이고, 출력 크기는 14x14x6  \n",
    "**Layer C3**  \n",
    "5x5 크기의 kernel 16개와 stride=1, convolution layer  \n",
    "입력 크기는 14x14x6 이고, 출력 크기는 10x10x16  \n",
    "**Layer S4**  \n",
    "2x2 크기의 kernel 16개와 stride=2, subsampling layer  \n",
    "입력 크기는 10x10x16 이고, 출력 크기는 5x5x16  \n",
    "**Layer C5**  \n",
    "5x5 크기의 kernel 120개와 stride=1, convolutional layer  \n",
    "입력 크기는 5x5x16 이고, 출력 크기는 1x1x120  \n",
    "**Layer F6**  \n",
    "tanh 함수를 활성화 함수로 이용하는 fully-connected layer  \n",
    "입력 유닛은 120개 이고, 출력 유닛은 84개  \n",
    "**Layer F7**  \n",
    "RBF(Euclidean Radia Basis Function unit)를 활성화 함수로 이용하는 output layer  \n",
    "입력 크기는 84 이고, 출력 크기는 10  "
   ]
  },
  {
   "cell_type": "markdown",
   "id": "a5a2b3f9",
   "metadata": {},
   "source": [
    "(1) 필요한 라이브러리 import"
   ]
  },
  {
   "cell_type": "code",
   "execution_count": 1,
   "id": "e85ff5e3",
   "metadata": {},
   "outputs": [
    {
     "name": "stdout",
     "output_type": "stream",
     "text": [
      "cuda\n"
     ]
    }
   ],
   "source": [
    "import numpy as np\n",
    "from datetime import datetime\n",
    "\n",
    "import torch\n",
    "import torch.nn as nn\n",
    "import torch.nn.functional as F\n",
    "from torch.utils.data import DataLoader\n",
    "\n",
    "from torchvision import datasets, transforms\n",
    "\n",
    "import matplotlib.pyplot as plt\n",
    "\n",
    "DEVICE = 'cuda' if torch.cuda.is_available() else 'cpu' \n",
    "print(DEVICE)"
   ]
  },
  {
   "cell_type": "markdown",
   "id": "7d59852c",
   "metadata": {},
   "source": [
    "(2) Parameters 설정하기"
   ]
  },
  {
   "cell_type": "code",
   "execution_count": 2,
   "id": "ac262ddf",
   "metadata": {},
   "outputs": [],
   "source": [
    "# parameters\n",
    "RANDOM_SEED = 42\n",
    "LEARNING_RATE = 0.001\n",
    "BATCH_SIZE = 32\n",
    "N_EPOCHS = 15"
   ]
  },
  {
   "cell_type": "markdown",
   "id": "c06a59b3",
   "metadata": {},
   "source": [
    "(3) 정확도를 구하는 function과 손실을 시각화 하는 function 정의"
   ]
  },
  {
   "cell_type": "code",
   "execution_count": 3,
   "id": "961bfe58",
   "metadata": {},
   "outputs": [],
   "source": [
    "def get_accuracy(model, data_loader, device):\n",
    "    '''\n",
    "    전체 data_loader에 대한 예측의 정확도를 계산하는 함수\n",
    "    '''\n",
    "    \n",
    "    correct_pred = 0 \n",
    "    n = 0\n",
    "    \n",
    "    with torch.no_grad():\n",
    "        model.eval()\n",
    "        for X, y_true in data_loader:\n",
    "\n",
    "            X = X.to(device)\n",
    "            y_true = y_true.to(device)\n",
    "\n",
    "            _, y_prob = model(X)\n",
    "            _, predicted_labels = torch.max(y_prob, 1)\n",
    "\n",
    "            n += y_true.size(0)\n",
    "            correct_pred += (predicted_labels == y_true).sum()\n",
    "\n",
    "    return correct_pred.float() / n\n",
    "\n",
    "def plot_losses(train_losses, valid_losses):\n",
    "    '''\n",
    "    training과 validation loss를 시각화하는 함수\n",
    "    '''\n",
    "    \n",
    "    # plot style을 seaborn으로 설정\n",
    "    plt.style.use('seaborn')\n",
    "\n",
    "    train_losses = np.array(train_losses) \n",
    "    valid_losses = np.array(valid_losses)\n",
    "\n",
    "    fig, ax = plt.subplots(figsize = (8, 4.5))\n",
    "\n",
    "    ax.plot(train_losses, color='blue', label='Training loss') \n",
    "    ax.plot(valid_losses, color='red', label='Validation loss')\n",
    "    ax.set(title=\"Loss over epochs\", \n",
    "            xlabel='Epoch',\n",
    "            ylabel='Loss') \n",
    "    ax.legend()\n",
    "    fig.show()\n",
    "    \n",
    "    # plot style을 기본값으로 설정\n",
    "    plt.style.use('default')"
   ]
  },
  {
   "cell_type": "markdown",
   "id": "ccb68395",
   "metadata": {},
   "source": [
    "(4) training data에 사용되는 helper 함수 정의하기"
   ]
  },
  {
   "cell_type": "code",
   "execution_count": 4,
   "id": "1c46a122",
   "metadata": {},
   "outputs": [],
   "source": [
    "def train(train_loader, model, criterion, optimizer, device):\n",
    "    '''\n",
    "    training loop의 training 단계에 대한 함수\n",
    "    '''\n",
    "\n",
    "    model.train()\n",
    "    running_loss = 0\n",
    "    \n",
    "    for X, y_true in train_loader:\n",
    "\n",
    "        optimizer.zero_grad()\n",
    "        \n",
    "        X = X.to(device)\n",
    "        y_true = y_true.to(device)\n",
    "    \n",
    "        # 순전파\n",
    "        y_hat, _ = model(X) \n",
    "        loss = criterion(y_hat, y_true) \n",
    "        running_loss += loss.item() * X.size(0)\n",
    "\n",
    "        # 역전파\n",
    "        loss.backward()\n",
    "        optimizer.step()\n",
    "        \n",
    "    epoch_loss = running_loss / len(train_loader.dataset)\n",
    "    return model, optimizer, epoch_loss"
   ]
  },
  {
   "cell_type": "markdown",
   "id": "2dc1bf92",
   "metadata": {},
   "source": [
    "(5) validation data에 사용되는 함수 정의하기"
   ]
  },
  {
   "cell_type": "code",
   "execution_count": 5,
   "id": "7c16b02b",
   "metadata": {},
   "outputs": [],
   "source": [
    "#validation 단계에서는 역전파를 진행하지 않습니다.\n",
    "\n",
    "def validate(valid_loader, model, criterion, device):\n",
    "    '''\n",
    "    training loop의 validation 단계에 대한 함수\n",
    "    '''\n",
    "   \n",
    "    model.eval()\n",
    "    running_loss = 0\n",
    "    \n",
    "    for X, y_true in valid_loader:\n",
    "    \n",
    "        X = X.to(device)\n",
    "        y_true = y_true.to(device)\n",
    "\n",
    "        # 순전파와 손실 기록하기\n",
    "        y_hat, _ = model(X) \n",
    "        loss = criterion(y_hat, y_true) \n",
    "        running_loss += loss.item() * X.size(0)\n",
    "\n",
    "    epoch_loss = running_loss / len(valid_loader.dataset)\n",
    "        \n",
    "    return model, epoch_loss"
   ]
  },
  {
   "cell_type": "markdown",
   "id": "e74d5c4c",
   "metadata": {},
   "source": [
    "(6) training loop 정의하기"
   ]
  },
  {
   "cell_type": "code",
   "execution_count": 6,
   "id": "21855951",
   "metadata": {},
   "outputs": [],
   "source": [
    "def training_loop(model, criterion, optimizer, train_loader, valid_loader, epochs, device, print_every=1):\n",
    "    '''\n",
    "    전체 training loop를 정의하는 함수\n",
    "    '''\n",
    "    \n",
    "    # metrics를 저장하기 위한 객체 설정\n",
    "    best_loss = 1e10\n",
    "    train_losses = []\n",
    "    valid_losses = []\n",
    " \n",
    "    # model 학습하기\n",
    "    for epoch in range(0, epochs):\n",
    "\n",
    "        # training\n",
    "        model, optimizer, train_loss = train(train_loader, model, criterion, optimizer, device)\n",
    "        train_losses.append(train_loss)\n",
    "\n",
    "        # validation\n",
    "        with torch.no_grad():\n",
    "            model, valid_loss = validate(valid_loader, model, criterion, device)\n",
    "            valid_losses.append(valid_loss)\n",
    "\n",
    "        if epoch % print_every == (print_every - 1):\n",
    "            \n",
    "            train_acc = get_accuracy(model, train_loader, device=device)\n",
    "            valid_acc = get_accuracy(model, valid_loader, device=device)\n",
    "                \n",
    "            print(f'{datetime.now().time().replace(microsecond=0)} --- '\n",
    "                  f'Epoch: {epoch}\\t'\n",
    "                  f'Train loss: {train_loss:.4f}\\t'\n",
    "                  f'Valid loss: {valid_loss:.4f}\\t'\n",
    "                  f'Train accuracy: {100 * train_acc:.2f}\\t'\n",
    "                  f'Valid accuracy: {100 * valid_acc:.2f}')\n",
    "\n",
    "    plot_losses(train_losses, valid_losses)\n",
    "    \n",
    "    return model, optimizer, (train_losses, valid_losses)"
   ]
  },
  {
   "cell_type": "markdown",
   "id": "cee17c49",
   "metadata": {},
   "source": [
    "(7) data 준비하기"
   ]
  },
  {
   "cell_type": "code",
   "execution_count": 7,
   "id": "9a7f65ba",
   "metadata": {},
   "outputs": [],
   "source": [
    "#data는 torchvision에서 제공하는 MNIST data를 사용합니다.\n",
    "\n",
    "# transforms 정의하기\n",
    "transforms = transforms.Compose([transforms.Resize((32, 32)),\n",
    "                                 transforms.ToTensor()])\n",
    "\n",
    "# data set 다운받고 생성하기\n",
    "train_dataset = datasets.MNIST(root='mnist_data', \n",
    "                               train=True, \n",
    "                               transform=transforms,\n",
    "                               download=True)\n",
    "\n",
    "valid_dataset = datasets.MNIST(root='mnist_data', \n",
    "                               train=False, \n",
    "                               transform=transforms)\n",
    "\n",
    "# data loader 정의하기\n",
    "train_loader = DataLoader(dataset=train_dataset, \n",
    "                          batch_size=BATCH_SIZE, \n",
    "                          shuffle=True)\n",
    "\n",
    "valid_loader = DataLoader(dataset=valid_dataset, \n",
    "                          batch_size=BATCH_SIZE, \n",
    "                          shuffle=False)"
   ]
  },
  {
   "cell_type": "markdown",
   "id": "a0f40f9c",
   "metadata": {},
   "source": [
    "(8) 불러온 MNIST data 확인하기"
   ]
  },
  {
   "cell_type": "code",
   "execution_count": 8,
   "id": "dc963aca",
   "metadata": {
    "scrolled": true
   },
   "outputs": [
    {
     "name": "stdout",
     "output_type": "stream",
     "text": [
      "X_train: torch.Size([32, 1, 32, 32]) type: torch.FloatTensor\n",
      "y_train: torch.Size([32]) type: torch.LongTensor\n"
     ]
    }
   ],
   "source": [
    "for (X_train, y_train) in train_loader:\n",
    "    print('X_train:', X_train.size(), 'type:', X_train.type())\n",
    "    print('y_train:', y_train.size(), 'type:', y_train.type())\n",
    "    break"
   ]
  },
  {
   "cell_type": "markdown",
   "id": "dad6fbc2",
   "metadata": {},
   "source": [
    "(9) LeNet-5 구조 정의하기"
   ]
  },
  {
   "cell_type": "code",
   "execution_count": 9,
   "id": "8c47f33a",
   "metadata": {},
   "outputs": [],
   "source": [
    "class LeNet(nn.Module):\n",
    "\n",
    "    def __init__(self):\n",
    "        super(LeNet, self).__init__()\n",
    "        \n",
    "        self.feature_extractor = nn.Sequential( \n",
    "            \n",
    "            nn.Conv2d(in_channels=1, out_channels=6, kernel_size=5, stride=1), # Conv1\n",
    "            nn.Tanh(),\n",
    "            nn.AvgPool2d(kernel_size=2), # AveragePooling2\n",
    "            nn.Conv2d(in_channels=6, out_channels=16, kernel_size=5, stride=1), # Conv3\n",
    "            nn.Tanh(),\n",
    "            nn.AvgPool2d(kernel_size=2), # AveragePooling4\n",
    "            nn.Conv2d(in_channels=16, out_channels=120, kernel_size=5, stride=1), # Conv5\n",
    "            nn.Tanh()\n",
    "        )\n",
    "\n",
    "        self.classifier = nn.Sequential(\n",
    "            nn.Linear(in_features=120, out_features=84), # FC6\n",
    "            nn.Tanh(),\n",
    "            nn.Linear(in_features=84, out_features=10), # FC7\n",
    "        )\n",
    "\n",
    "\n",
    "    def forward(self, x):\n",
    "        x = self.feature_extractor(x)\n",
    "        x = torch.flatten(x, 1)\n",
    "        x = self.classifier(x)\n",
    "        probs = F.softmax(x, dim=1)\n",
    "        return x, probs"
   ]
  },
  {
   "cell_type": "markdown",
   "id": "aedddcf1",
   "metadata": {},
   "source": [
    "(10) model, optimizer, loss function 설정하기"
   ]
  },
  {
   "cell_type": "code",
   "execution_count": 10,
   "id": "51703796",
   "metadata": {},
   "outputs": [],
   "source": [
    "torch.manual_seed(RANDOM_SEED)\n",
    "\n",
    "model = LeNet().to(DEVICE)\n",
    "optimizer = torch.optim.Adam(model.parameters(), lr=LEARNING_RATE)\n",
    "criterion = nn.CrossEntropyLoss() # Loss인 CrossEntropyLoss 에서 softmax를 포함한다."
   ]
  },
  {
   "cell_type": "markdown",
   "id": "48728426",
   "metadata": {},
   "source": [
    "(11) 신경망 학습하기"
   ]
  },
  {
   "cell_type": "code",
   "execution_count": 11,
   "id": "dcd814ba",
   "metadata": {
    "scrolled": true
   },
   "outputs": [
    {
     "name": "stdout",
     "output_type": "stream",
     "text": [
      "20:34:31 --- Epoch: 0\tTrain loss: 0.2290\tValid loss: 0.1020\tTrain accuracy: 96.84\tValid accuracy: 96.81\n",
      "20:34:42 --- Epoch: 1\tTrain loss: 0.0762\tValid loss: 0.0619\tTrain accuracy: 98.39\tValid accuracy: 98.19\n",
      "20:34:54 --- Epoch: 2\tTrain loss: 0.0550\tValid loss: 0.0542\tTrain accuracy: 98.59\tValid accuracy: 98.45\n",
      "20:35:05 --- Epoch: 3\tTrain loss: 0.0438\tValid loss: 0.0486\tTrain accuracy: 99.07\tValid accuracy: 98.41\n",
      "20:35:16 --- Epoch: 4\tTrain loss: 0.0343\tValid loss: 0.0416\tTrain accuracy: 99.24\tValid accuracy: 98.74\n",
      "20:35:28 --- Epoch: 5\tTrain loss: 0.0299\tValid loss: 0.0430\tTrain accuracy: 99.36\tValid accuracy: 98.63\n",
      "20:35:39 --- Epoch: 6\tTrain loss: 0.0235\tValid loss: 0.0420\tTrain accuracy: 99.54\tValid accuracy: 98.70\n",
      "20:35:50 --- Epoch: 7\tTrain loss: 0.0229\tValid loss: 0.0429\tTrain accuracy: 99.46\tValid accuracy: 98.78\n",
      "20:36:01 --- Epoch: 8\tTrain loss: 0.0191\tValid loss: 0.0463\tTrain accuracy: 99.61\tValid accuracy: 98.60\n",
      "20:36:12 --- Epoch: 9\tTrain loss: 0.0169\tValid loss: 0.0420\tTrain accuracy: 99.75\tValid accuracy: 98.78\n",
      "20:36:24 --- Epoch: 10\tTrain loss: 0.0134\tValid loss: 0.0547\tTrain accuracy: 99.53\tValid accuracy: 98.47\n",
      "20:36:35 --- Epoch: 11\tTrain loss: 0.0136\tValid loss: 0.0427\tTrain accuracy: 99.71\tValid accuracy: 98.87\n",
      "20:36:46 --- Epoch: 12\tTrain loss: 0.0127\tValid loss: 0.0393\tTrain accuracy: 99.73\tValid accuracy: 98.86\n",
      "20:36:57 --- Epoch: 13\tTrain loss: 0.0132\tValid loss: 0.0544\tTrain accuracy: 99.43\tValid accuracy: 98.53\n",
      "20:37:08 --- Epoch: 14\tTrain loss: 0.0109\tValid loss: 0.0500\tTrain accuracy: 99.71\tValid accuracy: 98.68\n"
     ]
    },
    {
     "name": "stderr",
     "output_type": "stream",
     "text": [
      "C:\\Users\\user\\AppData\\Local\\Temp\\ipykernel_13148\\1824114785.py:43: UserWarning: Matplotlib is currently using module://matplotlib_inline.backend_inline, which is a non-GUI backend, so cannot show the figure.\n",
      "  fig.show()\n"
     ]
    },
    {
     "data": {
      "image/png": "[encoded data removed]",
      "text/plain": [
       "<Figure size 800x450 with 1 Axes>"
      ]
     },
     "metadata": {},
     "output_type": "display_data"
    }
   ],
   "source": [
    "model, optimizer, _ = training_loop(model, criterion, optimizer, train_loader, \n",
    "                                    valid_loader, N_EPOCHS, DEVICE)"
   ]
  },
  {
   "cell_type": "markdown",
   "id": "c67f2090",
   "metadata": {},
   "source": [
    "## Alexnet Architecture"
   ]
  },
  {
   "cell_type": "markdown",
   "id": "36cccb95",
   "metadata": {},
   "source": [
    "<img src='https://t1.daumcdn.net/cfile/tistory/99FEB93C5C80B5192E' /><br>"
   ]
  },
  {
   "cell_type": "markdown",
   "id": "67b28248",
   "metadata": {},
   "source": [
    "Alexnet은 3x227x227 크기의 이미지에서 학습되었으며, 2개의 GPU로 병렬연산을 수행한 8 layer Convolutional Neural Network이다.   \n",
    "\n",
    "[Input – Conv1 – MaxPool1 – Norm1 – Conv2 – MaxPool2 – Norm2 – Conv3 – Conv4 – Conv5 – MaxPool5 – FC6- FC7- FC8(output)]  "
   ]
  },
  {
   "cell_type": "markdown",
   "id": "09fb9eff",
   "metadata": {},
   "source": [
    "Alexnet 구조 정의하기"
   ]
  },
  {
   "cell_type": "code",
   "execution_count": 16,
   "id": "2c0fc608",
   "metadata": {},
   "outputs": [],
   "source": [
    "class AlexNet(nn.Module):\n",
    "    def __init__(self, num_classes: int = 1000, init_weights: bool = True):\n",
    "        super(AlexNet, self).__init__()\n",
    "        \n",
    "        self.fstblock_1 = nn.Sequential(\n",
    "            # Input Channel (RGB: 3)\n",
    "            nn.Conv2d(in_channels=3, out_channels=48, kernel_size=11, padding=0, stride=4),\n",
    "            # 첫 번째 컨볼루션 수행, 채널 48개, 커널 사이즈 11, stride 4, (48, 55, 55)\n",
    "            nn.ReLU(inplace=True),\n",
    "            # 0보다 작으면 0, 0보다 크면 유지 -> input에 비선형성 부여\n",
    "            nn.MaxPool2d(kernel_size=3, stride=2),\n",
    "            # 첫 번째 풀링 수행, 채널 그대로, 커널 사이즈 3, 스트라이드 2, overlapping maxpooling, (48, 27, 27)\n",
    "            nn.LocalResponseNorm(size=5, k=2),\n",
    "            # 첫 번째 LRN 수행, LRN은 입력값과 이웃한 값(여기서는 입력값을 중심으로 한 5*5 윈도우)의 제곱합에 대해 가중치 부여 -> 입력값과 유사할수록 큰 값, 정규화 진행, 이상치에 의해 튀는 현상 방지, 과적합 방지 \n",
    "            nn.Conv2d(in_channels=48, out_channels=128, kernel_size=5, padding=2, stride=1),\n",
    "            # 두 번째 컨볼루션 수행, 채널 128개, 커널 사이즈 5, padding 2, stride 1, (128, 27, 27)            \n",
    "            nn.ReLU(inplace=True),\n",
    "            # 0보다 작으면 0, 0보다 크면 유지 -> input에 비선형성 부여            \n",
    "            nn.MaxPool2d(kernel_size=3, stride=2),\n",
    "            # 두 번째 풀링 수행, 채널 그대로, 커널 사이즈 3, 스트라이드 2, overlapping maxpooling, (128, 13, 13)            \n",
    "            nn.LocalResponseNorm(size=5, k=2),\n",
    "            # 두 번째 LRN 수행, LRN은 입력값과 이웃한 값(여기서는 입력값을 중심으로 한 5*5 윈도우)의 제곱합에 대해 가중치 부여\n",
    "            #입력값과 유사할수록 큰 값, 정규화 진행, 이상치에 의해 튀는 현상 방지, 과적합 방지             \n",
    "        )\n",
    "        \n",
    "        self.fstblock_2 = nn.Sequential(\n",
    "            # Input Channel (RGB: 3)\n",
    "            nn.Conv2d(in_channels=3, out_channels=48, kernel_size=11, padding=0, stride=4), \n",
    "            nn.ReLU(inplace=True),\n",
    "            nn.MaxPool2d(kernel_size=3, stride=2), \n",
    "            nn.LocalResponseNorm(size=5, k=2),\n",
    "            nn.Conv2d(in_channels=48, out_channels=128, kernel_size=5, padding=2, stride=1), \n",
    "            nn.ReLU(inplace=True),\n",
    "            nn.MaxPool2d(kernel_size=3, stride=2), \n",
    "            nn.LocalResponseNorm(size=5, k=2),\n",
    "        )\n",
    "\n",
    "        self.cross_conv_1 = nn.Sequential(\n",
    "            nn.Conv2d(in_channels=128, out_channels=96, kernel_size=3, padding=1, stride=1),\n",
    "            # fst블럭의 output을 96개의 채널로 축소 (96, 13, 13)\n",
    "            nn.ReLU(inplace=True),\n",
    "        )\n",
    "        self.cross_conv_2 = nn.Sequential(\n",
    "            nn.Conv2d(in_channels=128, out_channels=96, kernel_size=3, padding=1, stride=1),\n",
    "            nn.ReLU(inplace=True),\n",
    "        )\n",
    "\n",
    "        self.sndblock_1 = nn.Sequential(\n",
    "            nn.Conv2d(in_channels=192, out_channels=192, kernel_size=3, padding=1, stride=1),\n",
    "            # 형태를 그대로 유지하는 컨볼루션 수행\n",
    "            nn.ReLU(inplace=True),\n",
    "            nn.Conv2d(in_channels=192, out_channels=128, kernel_size=3, padding=1, stride=1),\n",
    "            # 채널 수를 128로 축소함 (128 ,13, 13)\n",
    "            nn.ReLU(inplace=True),\n",
    "            nn.MaxPool2d(kernel_size=3, stride=2),\n",
    "            # overlapping 풀링 수행 (128, 6, 6)\n",
    "        )\n",
    "        self.sndblock_2 = nn.Sequential(\n",
    "            nn.Conv2d(in_channels=192, out_channels=192, kernel_size=3, padding=1, stride=1),\n",
    "            nn.ReLU(inplace=True),\n",
    "            nn.Conv2d(in_channels=192, out_channels=128, kernel_size=3, padding=1, stride=1),\n",
    "            nn.ReLU(inplace=True),\n",
    "            nn.MaxPool2d(kernel_size=3, stride=2), \n",
    "        )\n",
    "\n",
    "        self.crossfc1_1 = nn.Sequential(\n",
    "            nn.Linear(128 * 6 * 6, 1024),\n",
    "            # 128*6*6 차원 벡터를 1024차원 벡터로 펴줌\n",
    "            nn.ReLU(inplace=True),\n",
    "            nn.Dropout(p=0.5)\n",
    "            # 50%의 확률로 선택된 노드를 0으로 만들어 모델을 더 robust하게 함\n",
    "        )\n",
    "        self.crossfc1_2 = nn.Sequential(\n",
    "            nn.Linear(128 * 6 * 6, 1024),\n",
    "            nn.ReLU(inplace=True),\n",
    "            nn.Dropout(p=0.5)\n",
    "        )\n",
    "\n",
    "        self.crossfc2_1 = nn.Sequential(\n",
    "            nn.Linear(2048, 1024),\n",
    "            # 2048차원 벡터를 1024차원 벡터로 축소함\n",
    "            nn.ReLU(inplace=True),\n",
    "            nn.Dropout(p=0.5)\n",
    "        )\n",
    "        self.crossfc2_2 = nn.Sequential(\n",
    "            nn.Linear(2048, 1024),\n",
    "            nn.ReLU(inplace=True),\n",
    "            nn.Dropout(p=0.5)\n",
    "        )\n",
    "\n",
    "        self.classifier_1 = nn.Linear(2048, num_classes)\n",
    "        # 클래스 개수만큼 차원을 축소함\n",
    "        self.classifier_2 = nn.Linear(2048, num_classes)\n",
    "    \n",
    "    def forward(self, x:torch.Tensor):\n",
    "        # First Block\n",
    "        x1 = self.fstblock_1(x)\n",
    "        # fstblock 연산을 수행함 (128, 13, 13) \n",
    "        x2 = self.fstblock_2(x)\n",
    "\n",
    "        # Cross\n",
    "        x3 = self.cross_conv_1(x1) # Left Block 1\n",
    "        # cross_conv 연산을 수행함 (96, 13, 13)\n",
    "        x4 = self.cross_conv_2(x2) # Left Block 2\n",
    "\n",
    "        x5 = self.cross_conv_1(x1) # Right Block 1\n",
    "        x6 = self.cross_conv_2(x2) # Right Block 2\n",
    "\n",
    "        x1 = torch.cat([x3, x4], 1)\n",
    "        # 첫 번째 블럭에서의 (96, 13, 13)과 두 번째 블럭에서의 (96, 13, 13)을 합쳐 (192, 13, 13) 크기의 feature map을 만듦\n",
    "        x2 = torch.cat([x5, x6], 1)\n",
    "\n",
    "        # Second Block\n",
    "        x1 = self.sndblock_1(x1)\n",
    "        # sncblock 연산을 수행\n",
    "        x2 = self.sndblock_2(x2)\n",
    "\n",
    "        x1 = torch.flatten(x1, 1)\n",
    "        # (batch_size, 128, 6, 6) 크기의 4차원 텐서를 start_dim = 1에 의해 channels 부터 평탄화 됨, (batch_size, 4608)\n",
    "        # 따라서 각 샘플에 대해 크기가 4608인 1차원 벡터로 평탄화 됨.\n",
    "        x2 = torch.flatten(x2, 1)\n",
    "\n",
    "        # FC Layer (Cross)\n",
    "        x3 = crossfc1_1(x1) # Left FC 1\n",
    "        # crossfc1 연산을 수행함 -> 4608차원을 1024차원으로 축소\n",
    "        x4 = crossfc1_2(x2) # Left FC 2\n",
    "\n",
    "        x5 = crossfc1_1(x1) # Right FC 1\n",
    "        x6 = crossfc1_2(x2) # Right FC 2\n",
    "\n",
    "        x1 = torch.cat([x3, x4], 1)\n",
    "        # x3과 x4를 더한다. -> 1024+1024=2048차원으로 확대됨 \n",
    "        x2 = torch.cat([x5, x6], 1)\n",
    "\n",
    "        # FC Layer (Cross)\n",
    "        x3 = crossfc2_1(x1) # Left FC 1\n",
    "        # crossfc2 연산을 수행 -> 2048차원을 1024차원으로 축소함\n",
    "        x4 = crossfc2_2(x2) # Left FC 2\n",
    "\n",
    "        x5 = crossfc2_1(x1) # Right FC 1\n",
    "        x6 = crossfc2_2(x2) # Right FC 2\n",
    "\n",
    "        x1 = torch.cat([x3, x4], 1)\n",
    "        # x3과 x4를 더한다. -> 1024+1024=2048차원으로 확대됨         \n",
    "        x2 = torch.cat([x5, x6], 1)\n",
    "\n",
    "        x1 = classifier_1(x1)\n",
    "        # classifier 연산을 수행함 -> 2048차원을 num_classes개의 차원으로 축소함\n",
    "        x2 = classifier_2(x2)\n",
    "\n",
    "        x = (x1 + x2)/2\n",
    "        # 두 출력값의 평균을 내어 최종 output을 만듦\n",
    "        return x\n",
    "    \n",
    "# 비빔밥을 아주 잘 섞어 어느 한 부분에 가지무침이 뭉쳐있게 하지 않게 하는 원리와 동일"
   ]
  },
  {
   "cell_type": "markdown",
   "id": "e3c2ca8b",
   "metadata": {},
   "source": [
    "## VGG16 Architecture"
   ]
  },
  {
   "cell_type": "markdown",
   "id": "24324fa1",
   "metadata": {},
   "source": [
    "<img src='https://blog.kakaocdn.net/dn/K990l/btqwDJ7C54R/664Ksm6gyTGBR1wK3YPDFk/img.png' /><br>"
   ]
  },
  {
   "cell_type": "markdown",
   "id": "46b4e764",
   "metadata": {},
   "source": [
    "VGG16은 3x224x224 크기의 이미지에서 학습된 16 layer Convolutional Neural Network이다.   \n",
    "\n",
    "[Input – C1 – C2 – MaxPool2 – C3 – C4 – MaxPool4 – C5 – C6 – C7 – MaxPool7 – C8 – C9 – C10 – MaxPool10 – C11 – C12 – C13 – MaxPool13 – FC14 – FC15 – FC16(Output)]     \n",
    "\n",
    "**Input**  \n",
    "입력 이미지 3x224x224  \n",
    "    \n",
    "**Layer C1**  \n",
    "3x3 크기의 kernel 64개, stride=1, padding=1인 convolutional layer  \n",
    "입력 크기는 3x224x224 이고, 출력 크기는 64x224x224  \n",
    "**Layer C2**\n",
    "3x3 크기의 kernel 64개, stride=1, padding=1인 convolutional layer  \n",
    "입력 크기는 64x224x224 이고, 출력 크기는 64x224x224  \n",
    "**Layer Maxpool2**  \n",
    "2x2 크기의 kernel, stride=2인 maxpooling layer  \n",
    "입력 크기는 64x224x224 이고, 출력 크기는 64x112x112  \n",
    "    \n",
    "**Layer C3**  \n",
    "3x3 크기의 kernel 128개, stride=1, padding=1인 convolutional layer  \n",
    "입력 크기는 64x112x112 이고, 출력 크기는 128x112x112  \n",
    "**Layer C4**  \n",
    "3x3 크기의 kernel 128개, stride=1, padding=1인 convolutional layer  \n",
    "입력 크기는 128x112x112 이고, 출력 크기는 128x112x112  \n",
    "**Layer Maxpool4**  \n",
    "2x2 크기의 kernel, stride=2인 maxpooling layer  \n",
    "입력 크기는 128x112x112 이고, 출력 크기는 128x56x56  \n",
    "    \n",
    "**Layer C5**  \n",
    "3x3 크기의 kernel 256개, stride=1, padding=1인 convolutional layer  \n",
    "입력 크기는 128x56x56 이고, 출력 크기는 256x56x56  \n",
    "**Layer C6**  \n",
    "3x3 크기의 kernel 256개, stride=1, padding=1인 convolutional layer  \n",
    "입력 크기는 256x56x56 이고, 출력 크기는 256x56x56  \n",
    "**Layer C7**  \n",
    "3x3 크기의 kernel 256개, stride=1, padding=1인 convolutional layer  \n",
    "입력 크기는 256x56x56 이고, 출력 크기는 256x56x56  \n",
    "**Layer Maxpool7**  \n",
    "2x2 크기의 kernel, stride=2인 maxpooling layer  \n",
    "입력 크기는 256x56x56 이고, 출력 크기는 256x28x28  \n",
    "    \n",
    "**Layer C8**  \n",
    "3x3 크기의 kernel 512개, stride=1, padding=1인 convolutional layer  \n",
    "입력 크기는 256x28x28 이고, 출력 크기는 512x28x28  \n",
    "**Layer C9**  \n",
    "3x3 크기의 kernel 512개, stride=1, padding=1인 convolutional layer  \n",
    "입력 크기는 512x28x28 이고, 출력 크기는 512x28x28  \n",
    "**Layer C10**  \n",
    "3x3 크기의 kernel 512개, stride=1, padding=1인 convolutional layer  \n",
    "입력 크기는 512x28x28 이고, 출력 크기는 512x28x28  \n",
    "**Layer Maxpool10**  \n",
    "2x2 크기의 kernel, stride=2인 maxpooling layer  \n",
    "입력 크기는 512x28x28 이고, 출력 크기는 512x14x14  \n",
    "    \n",
    "**Layer C11**  \n",
    "3x3 크기의 kernel 512개, stride=1, padding=1인 convolutional layer  \n",
    "입력 크기는 512x14x14 이고, 출력 크기는 512x14x14  \n",
    "**Layer C12**  \n",
    "3x3 크기의 kernel 512개, stride=1, padding=1인 convolutional layer  \n",
    "입력 크기는 512x14x14 이고, 출력 크기는 512x14x14  \n",
    "**Layer C13**  \n",
    "3x3 크기의 kernel 512개, stride=1, padding=1인 convolutional layer  \n",
    "입력 크기는 512x14x14 이고, 출력 크기는 512x14x14  \n",
    "**Layer Maxpool13**  \n",
    "2x2 크기의 kernel, stride=2인 maxpooling layer  \n",
    "입력 크기는 512x14x14 이고, 출력 크기는 512x7x7  \n",
    "    \n",
    "**Layer F14**  \n",
    "ReLU를 활성화 함수로 이용하는 fully connected layer  \n",
    "입력 크기는 25088 이고, 출력 크기는 4096  \n",
    "**Layer F15**  \n",
    "ReLU를 활성화 함수로 이용하는 fully connected layer  \n",
    "입력 크기는 4096 이고, 출력 크기는 4096  \n",
    "**Layer F16**  \n",
    "ReLU를 활성화 함수로 이용하는 output layer  \n",
    "입력 크기는 4096 이고, 출력 크기는 1000  "
   ]
  },
  {
   "cell_type": "markdown",
   "id": "41e869c2",
   "metadata": {},
   "source": [
    "VGG16 구조 정의하기"
   ]
  },
  {
   "cell_type": "code",
   "execution_count": 15,
   "id": "899326b1",
   "metadata": {},
   "outputs": [],
   "source": [
    "class VGG_A(nn.Module):\n",
    "    def __init__(self, num_classes: int = 1000, init_weights: bool = True):\n",
    "        super(VGG_A, self).__init__()\n",
    "        self.convnet = nn.Sequential(\n",
    "            # Input Channel (RGB: 3)\n",
    "            nn.Conv2d(in_channels=3, out_channels=64, kernel_size=3, padding=1, stride=1), # conv1\n",
    "            nn.ReLU(inplace=True),\n",
    "            nn.Conv2d(in_channels=64, out_channels=64, kernel_size=3, padding=1, stride=1), # conv2\n",
    "            nn.ReLU(inplace=True),\n",
    "            nn.MaxPool2d(kernel_size=2, stride=2), # 224 -> 112   # maxpool2\n",
    "            \n",
    "            nn.Conv2d(in_channels=64, out_channels=128, kernel_size=3, padding=1, stride=1),  # conv3\n",
    "            nn.ReLU(inplace=True),\n",
    "            nn.Conv2d(in_channels=128, out_channels=128, kernel_size=3, padding=1, stride=1),  # conv4\n",
    "            nn.ReLU(inplace=True),\n",
    "            nn.MaxPool2d(kernel_size=2, stride=2), # 112 -> 56   # maxpool4\n",
    "            \n",
    "            nn.Conv2d(in_channels=128, out_channels=256, kernel_size=3, padding=1, stride=1),  #conv5\n",
    "            nn.ReLU(inplace=True),\n",
    "            nn.Conv2d(in_channels=256, out_channels=256, kernel_size=3, padding=1, stride=1),  # conv6\n",
    "            nn.ReLU(inplace=True),\n",
    "            nn.Conv2d(in_channels=256, out_channels=256, kernel_size=3, padding=1, stride=1),  # conv7\n",
    "            nn.ReLU(inplace=True),\n",
    "            nn.MaxPool2d(kernel_size=2, stride=2), # 56 -> 28   # maxpool7\n",
    "\n",
    "            nn.Conv2d(in_channels=256, out_channels=512, kernel_size=3, padding=1, stride=1),  # conv8\n",
    "            nn.ReLU(inplace=True),\n",
    "            nn.Conv2d(in_channels=512, out_channels=512, kernel_size=3, padding=1, stride=1),  # conv9\n",
    "            nn.ReLU(inplace=True),\n",
    "            nn.Conv2d(in_channels=512, out_channels=512, kernel_size=3, padding=1, stride=1),  # conv10\n",
    "            nn.ReLU(inplace=True),\n",
    "            nn.MaxPool2d(kernel_size=2, stride=2), # 28 -> 14   # maxpool10\n",
    "\n",
    "            nn.Conv2d(in_channels=512, out_channels=512, kernel_size=3, padding=1, stride=1),  # conv11\n",
    "            nn.ReLU(inplace=True),\n",
    "            nn.Conv2d(in_channels=512, out_channels=512, kernel_size=3, padding=1, stride=1),  # conv12\n",
    "            nn.ReLU(inplace=True),\n",
    "            nn.Conv2d(in_channels=512, out_channels=512, kernel_size=3, padding=1, stride=1),  # conv13\n",
    "            nn.ReLU(inplace=True),\n",
    "            nn.MaxPool2d(kernel_size=2, stride=2), # 14 -> 7   # maxpool13\n",
    "        )\n",
    "\n",
    "        self.fclayer = nn.Sequential(\n",
    "            nn.Linear(512 * 7 * 7, 4096),  # fc14\n",
    "            nn.ReLU(inplace=True),\n",
    "            nn.Dropout(p=0.5),\n",
    "            nn.Linear(4096, 4096),  # fc15\n",
    "            nn.ReLU(inplace=True),\n",
    "            nn.Dropout(p=0.5),\n",
    "            nn.Linear(4096, num_classes),  # fc16 = output\n",
    "            # nn.Softmax(dim=1),\n",
    "        )\n",
    "    \n",
    "    def forward(self, x:torch.Tensor):\n",
    "        x = self.convnet(x)\n",
    "        x = torch.flatten(x, 1)\n",
    "        x = self.fclayer(x)\n",
    "        return x"
   ]
  }
 ],
 "metadata": {
  "kernelspec": {
   "display_name": "Python 3 (ipykernel)",
   "language": "python",
   "name": "python3"
  },
  "language_info": {
   "codemirror_mode": {
    "name": "ipython",
    "version": 3
   },
   "file_extension": ".py",
   "mimetype": "text/x-python",
   "name": "python",
   "nbconvert_exporter": "python",
   "pygments_lexer": "ipython3",
   "version": "3.9.13"
  }
 },
 "nbformat": 4,
 "nbformat_minor": 5
}
